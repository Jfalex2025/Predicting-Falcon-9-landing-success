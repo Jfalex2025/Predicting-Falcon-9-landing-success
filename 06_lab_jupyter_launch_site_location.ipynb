{
  "metadata": {
    "kernelspec": {
      "name": "python",
      "display_name": "Python (Pyodide)",
      "language": "python"
    },
    "language_info": {
      "codemirror_mode": {
        "name": "python",
        "version": 3
      },
      "file_extension": ".py",
      "mimetype": "text/x-python",
      "name": "python",
      "nbconvert_exporter": "python",
      "pygments_lexer": "ipython3",
      "version": "3.8"
    },
    "prev_pub_hash": "0f9db842b41c859223722809f8be602f5df9334348bd206b11e3af58c30eb345"
  },
  "nbformat_minor": 4,
  "nbformat": 4,
  "cells": [
    {
      "cell_type": "markdown",
      "source": "<p style=\"text-align:center\">\n    <a href=\"https://skills.network/?utm_medium=Exinfluencer&utm_source=Exinfluencer&utm_content=000026UJ&utm_term=10006555&utm_id=NA-SkillsNetwork-Channel-SkillsNetworkCoursesIBMDS0321ENSkillsNetwork26802033-2022-01-01\" target=\"_blank\">\n    <img src=\"https://cf-courses-data.s3.us.cloud-object-storage.appdomain.cloud/assets/logos/SN_web_lightmode.png\" width=\"200\" alt=\"Skills Network Logo\">\n    </a>\n</p>\n",
      "metadata": {}
    },
    {
      "cell_type": "markdown",
      "source": "# **Hands-on Lab: Interactive Visual Analytics with Folium**\n",
      "metadata": {}
    },
    {
      "cell_type": "markdown",
      "source": "Estimated time needed: **40** minutes\n",
      "metadata": {}
    },
    {
      "cell_type": "markdown",
      "source": "The launch success rate may depend on many factors such as payload mass, orbit type, and so on. It may also depend on the location and proximities of a launch site, i.e., the initial position of rocket trajectories. Finding an optimal location for building a launch site certainly involves many factors and hopefully we could discover some of the factors by analyzing the existing launch site locations.\n",
      "metadata": {}
    },
    {
      "cell_type": "markdown",
      "source": "In the previous exploratory data analysis labs, you have visualized the SpaceX launch dataset using `matplotlib` and `seaborn` and discovered some preliminary correlations between the launch site and success rates. In this lab, you will be performing more interactive visual analytics using `Folium`.\n",
      "metadata": {}
    },
    {
      "cell_type": "markdown",
      "source": "## Objectives\n",
      "metadata": {}
    },
    {
      "cell_type": "markdown",
      "source": "This lab contains the following tasks:\n\n*   **TASK 1:** Mark all launch sites on a map\n*   **TASK 2:** Mark the success/failed launches for each site on the map\n*   **TASK 3:** Calculate the distances between a launch site to its proximities\n\nAfter completed the above tasks, you should be able to find some geographical patterns about launch sites.\n",
      "metadata": {}
    },
    {
      "cell_type": "markdown",
      "source": "Let's first import required Python packages for this lab:\n",
      "metadata": {}
    },
    {
      "cell_type": "code",
      "source": "import piplite\nawait piplite.install(['folium'])\nawait piplite.install(['pandas'])",
      "metadata": {
        "trusted": true
      },
      "outputs": [],
      "execution_count": 16
    },
    {
      "cell_type": "code",
      "source": "import folium\nimport pandas as pd",
      "metadata": {
        "trusted": true
      },
      "outputs": [],
      "execution_count": 17
    },
    {
      "cell_type": "code",
      "source": "# Import folium MarkerCluster plugin\nfrom folium.plugins import MarkerCluster\n# Import folium MousePosition plugin\nfrom folium.plugins import MousePosition\n# Import folium DivIcon plugin\nfrom folium.features import DivIcon",
      "metadata": {
        "trusted": true
      },
      "outputs": [],
      "execution_count": 18
    },
    {
      "cell_type": "markdown",
      "source": "If you need to refresh your memory about folium, you may download and refer to this previous folium lab:\n",
      "metadata": {}
    },
    {
      "cell_type": "markdown",
      "source": "[Generating Maps with Python](https://cf-courses-data.s3.us.cloud-object-storage.appdomain.cloud/IBMDeveloperSkillsNetwork-DV0101EN-SkillsNetwork/labs/v4/DV0101EN-Exercise-Generating-Maps-in-Python.ipynb)\n",
      "metadata": {}
    },
    {
      "cell_type": "markdown",
      "source": "Task 1: Mark all launch sites on a map\nFirst, let's try to add each site's location on a map using site's latitude and longitude coordinates\n\nThe following dataset with the name spacex_launch_geo.csv is an augmented dataset with latitude and longitude added for each site.",
      "metadata": {}
    },
    {
      "cell_type": "code",
      "source": "# Download and read the `spacex_launch_geo.csv`\nfrom js import fetch\nimport io\n\nURL = 'https://cf-courses-data.s3.us.cloud-object-storage.appdomain.cloud/IBM-DS0321EN-SkillsNetwork/datasets/spacex_launch_geo.csv'\nresp = await fetch(URL)\nspacex_csv_file = io.BytesIO((await resp.arrayBuffer()).to_py())\nspacex_df=pd.read_csv(spacex_csv_file) ",
      "metadata": {
        "trusted": true
      },
      "outputs": [],
      "execution_count": 19
    },
    {
      "cell_type": "markdown",
      "source": "First, let's try to add each site's location on a map using site's latitude and longitude coordinates\n",
      "metadata": {}
    },
    {
      "cell_type": "markdown",
      "source": "The following dataset with the name `spacex_launch_geo.csv` is an augmented dataset with latitude and longitude added for each site.\n",
      "metadata": {}
    },
    {
      "cell_type": "markdown",
      "source": "Now, you can take a look at what are the coordinates for each site.\n",
      "metadata": {}
    },
    {
      "cell_type": "code",
      "source": "# Select relevant sub-columns: `Launch Site`, `Lat(Latitude)`, `Long(Longitude)`, `class`\nspacex_df = spacex_df[['Launch Site', 'Lat', 'Long', 'class']]\nlaunch_sites_df = spacex_df.groupby(['Launch Site'], as_index=False).first()\nlaunch_sites_df = launch_sites_df[['Launch Site', 'Lat', 'Long']]\nlaunch_sites_df",
      "metadata": {
        "trusted": true
      },
      "outputs": [
        {
          "execution_count": 20,
          "output_type": "execute_result",
          "data": {
            "text/plain": "    Launch Site        Lat        Long\n0   CCAFS LC-40  28.562302  -80.577356\n1  CCAFS SLC-40  28.563197  -80.576820\n2    KSC LC-39A  28.573255  -80.646895\n3   VAFB SLC-4E  34.632834 -120.610745",
            "text/html": "<div>\n<style scoped>\n    .dataframe tbody tr th:only-of-type {\n        vertical-align: middle;\n    }\n\n    .dataframe tbody tr th {\n        vertical-align: top;\n    }\n\n    .dataframe thead th {\n        text-align: right;\n    }\n</style>\n<table border=\"1\" class=\"dataframe\">\n  <thead>\n    <tr style=\"text-align: right;\">\n      <th></th>\n      <th>Launch Site</th>\n      <th>Lat</th>\n      <th>Long</th>\n    </tr>\n  </thead>\n  <tbody>\n    <tr>\n      <th>0</th>\n      <td>CCAFS LC-40</td>\n      <td>28.562302</td>\n      <td>-80.577356</td>\n    </tr>\n    <tr>\n      <th>1</th>\n      <td>CCAFS SLC-40</td>\n      <td>28.563197</td>\n      <td>-80.576820</td>\n    </tr>\n    <tr>\n      <th>2</th>\n      <td>KSC LC-39A</td>\n      <td>28.573255</td>\n      <td>-80.646895</td>\n    </tr>\n    <tr>\n      <th>3</th>\n      <td>VAFB SLC-4E</td>\n      <td>34.632834</td>\n      <td>-120.610745</td>\n    </tr>\n  </tbody>\n</table>\n</div>"
          },
          "metadata": {}
        }
      ],
      "execution_count": 20
    },
    {
      "cell_type": "markdown",
      "source": "Above coordinates are just plain numbers that can not give you any intuitive insights about where are those launch sites. If you are very good at geography, you can interpret those numbers directly in your mind. If not, that's fine too. Let's visualize those locations by pinning them on a map.\n",
      "metadata": {}
    },
    {
      "cell_type": "markdown",
      "source": "We first need to create a folium `Map` object, with an initial center location to be NASA Johnson Space Center at Houston, Texas.\n",
      "metadata": {}
    },
    {
      "cell_type": "code",
      "source": "# Start location is NASA Johnson Space Center\nnasa_coordinate = [29.559684888503615, -95.0830971930759]\nsite_map = folium.Map(location=nasa_coordinate, zoom_start=10)",
      "metadata": {
        "trusted": true
      },
      "outputs": [],
      "execution_count": 21
    },
    {
      "cell_type": "markdown",
      "source": "We could use `folium.Circle` to add a highlighted circle area with a text label on a specific coordinate. For example,\n",
      "metadata": {}
    },
    {
      "cell_type": "code",
      "source": "# Create a blue circle at NASA Johnson Space Center's coordinate with a popup label showing its name\ncircle = folium.Circle(nasa_coordinate, radius=1000, color='#d35400', fill=True).add_child(folium.Popup('NASA Johnson Space Center'))\n# Create a blue circle at NASA Johnson Space Center's coordinate with a icon showing its name\nmarker = folium.map.Marker(\n    nasa_coordinate,\n    # Create an icon as a text label\n    icon=DivIcon(\n        icon_size=(20,20),\n        icon_anchor=(0,0),\n        html='<div style=\"font-size: 12; color:#d35400;\"><b>%s</b></div>' % 'NASA JSC',\n        )\n    )\nsite_map.add_child(circle)\nsite_map.add_child(marker)",
      "metadata": {
        "trusted": true
      },
      "outputs": [
        {
          "execution_count": 22,
          "output_type": "execute_result",
          "data": {
            "text/plain": "<folium.folium.Map at 0x54b9078>",
            "text/html": "<div style=\"width:100%;\"><div style=\"position:relative;width:100%;height:0;padding-bottom:60%;\"><span style=\"color:#565656\">Make this Notebook Trusted to load map: File -> Trust Notebook</span><iframe srcdoc=\"&lt;!DOCTYPE html&gt;\n&lt;html&gt;\n&lt;head&gt;\n    \n    &lt;meta http-equiv=&quot;content-type&quot; content=&quot;text/html; charset=UTF-8&quot; /&gt;\n    \n        &lt;script&gt;\n            L_NO_TOUCH = false;\n            L_DISABLE_3D = false;\n        &lt;/script&gt;\n    \n    &lt;style&gt;html, body {width: 100%;height: 100%;margin: 0;padding: 0;}&lt;/style&gt;\n    &lt;style&gt;#map {position:absolute;top:0;bottom:0;right:0;left:0;}&lt;/style&gt;\n    &lt;script src=&quot;https://cdn.jsdelivr.net/npm/leaflet@1.9.3/dist/leaflet.js&quot;&gt;&lt;/script&gt;\n    &lt;script src=&quot;https://code.jquery.com/jquery-3.7.1.min.js&quot;&gt;&lt;/script&gt;\n    &lt;script src=&quot;https://cdn.jsdelivr.net/npm/bootstrap@5.2.2/dist/js/bootstrap.bundle.min.js&quot;&gt;&lt;/script&gt;\n    &lt;script src=&quot;https://cdnjs.cloudflare.com/ajax/libs/Leaflet.awesome-markers/2.0.2/leaflet.awesome-markers.js&quot;&gt;&lt;/script&gt;\n    &lt;link rel=&quot;stylesheet&quot; href=&quot;https://cdn.jsdelivr.net/npm/leaflet@1.9.3/dist/leaflet.css&quot;/&gt;\n    &lt;link rel=&quot;stylesheet&quot; href=&quot;https://cdn.jsdelivr.net/npm/bootstrap@5.2.2/dist/css/bootstrap.min.css&quot;/&gt;\n    &lt;link rel=&quot;stylesheet&quot; href=&quot;https://netdna.bootstrapcdn.com/bootstrap/3.0.0/css/bootstrap-glyphicons.css&quot;/&gt;\n    &lt;link rel=&quot;stylesheet&quot; href=&quot;https://cdn.jsdelivr.net/npm/@fortawesome/fontawesome-free@6.2.0/css/all.min.css&quot;/&gt;\n    &lt;link rel=&quot;stylesheet&quot; href=&quot;https://cdnjs.cloudflare.com/ajax/libs/Leaflet.awesome-markers/2.0.2/leaflet.awesome-markers.css&quot;/&gt;\n    &lt;link rel=&quot;stylesheet&quot; href=&quot;https://cdn.jsdelivr.net/gh/python-visualization/folium/folium/templates/leaflet.awesome.rotate.min.css&quot;/&gt;\n    \n            &lt;meta name=&quot;viewport&quot; content=&quot;width=device-width,\n                initial-scale=1.0, maximum-scale=1.0, user-scalable=no&quot; /&gt;\n            &lt;style&gt;\n                #map_6ab41421467052c55fbf7897c5a5be49 {\n                    position: relative;\n                    width: 100.0%;\n                    height: 100.0%;\n                    left: 0.0%;\n                    top: 0.0%;\n                }\n                .leaflet-container { font-size: 1rem; }\n            &lt;/style&gt;\n        \n&lt;/head&gt;\n&lt;body&gt;\n    \n    \n            &lt;div class=&quot;folium-map&quot; id=&quot;map_6ab41421467052c55fbf7897c5a5be49&quot; &gt;&lt;/div&gt;\n        \n&lt;/body&gt;\n&lt;script&gt;\n    \n    \n            var map_6ab41421467052c55fbf7897c5a5be49 = L.map(\n                &quot;map_6ab41421467052c55fbf7897c5a5be49&quot;,\n                {\n                    center: [29.559684888503615, -95.0830971930759],\n                    crs: L.CRS.EPSG3857,\n                    ...{\n  &quot;zoom&quot;: 10,\n  &quot;zoomControl&quot;: true,\n  &quot;preferCanvas&quot;: false,\n}\n\n                }\n            );\n\n            \n\n        \n    \n            var tile_layer_bf207e1635b06c4a14e14d94ab9275ab = L.tileLayer(\n                &quot;https://tile.openstreetmap.org/{z}/{x}/{y}.png&quot;,\n                {\n  &quot;minZoom&quot;: 0,\n  &quot;maxZoom&quot;: 19,\n  &quot;maxNativeZoom&quot;: 19,\n  &quot;noWrap&quot;: false,\n  &quot;attribution&quot;: &quot;\\u0026copy; \\u003ca href=\\&quot;https://www.openstreetmap.org/copyright\\&quot;\\u003eOpenStreetMap\\u003c/a\\u003e contributors&quot;,\n  &quot;subdomains&quot;: &quot;abc&quot;,\n  &quot;detectRetina&quot;: false,\n  &quot;tms&quot;: false,\n  &quot;opacity&quot;: 1,\n}\n\n            );\n        \n    \n            tile_layer_bf207e1635b06c4a14e14d94ab9275ab.addTo(map_6ab41421467052c55fbf7897c5a5be49);\n        \n    \n            var circle_310b8a1fdddd4213b8b876b89ca075ea = L.circle(\n                [29.559684888503615, -95.0830971930759],\n                {&quot;bubblingMouseEvents&quot;: true, &quot;color&quot;: &quot;#d35400&quot;, &quot;dashArray&quot;: null, &quot;dashOffset&quot;: null, &quot;fill&quot;: true, &quot;fillColor&quot;: &quot;#d35400&quot;, &quot;fillOpacity&quot;: 0.2, &quot;fillRule&quot;: &quot;evenodd&quot;, &quot;lineCap&quot;: &quot;round&quot;, &quot;lineJoin&quot;: &quot;round&quot;, &quot;opacity&quot;: 1.0, &quot;radius&quot;: 1000, &quot;stroke&quot;: true, &quot;weight&quot;: 3}\n            ).addTo(map_6ab41421467052c55fbf7897c5a5be49);\n        \n    \n        var popup_32ad75fc6f20d2dea736673d2b54d9f5 = L.popup({\n  &quot;maxWidth&quot;: &quot;100%&quot;,\n});\n\n        \n            \n                var html_24b1ad2738eea7f50c37547e711e197d = $(`&lt;div id=&quot;html_24b1ad2738eea7f50c37547e711e197d&quot; style=&quot;width: 100.0%; height: 100.0%;&quot;&gt;NASA Johnson Space Center&lt;/div&gt;`)[0];\n                popup_32ad75fc6f20d2dea736673d2b54d9f5.setContent(html_24b1ad2738eea7f50c37547e711e197d);\n            \n        \n\n        circle_310b8a1fdddd4213b8b876b89ca075ea.bindPopup(popup_32ad75fc6f20d2dea736673d2b54d9f5)\n        ;\n\n        \n    \n    \n            var marker_931124687c62dc0bc0035eb3ee3ee57b = L.marker(\n                [29.559684888503615, -95.0830971930759],\n                {\n}\n            ).addTo(map_6ab41421467052c55fbf7897c5a5be49);\n        \n    \n            var div_icon_7464c108aeb250b6f2861ee13d5cdb67 = L.divIcon({\n  &quot;html&quot;: &quot;\\u003cdiv style=\\&quot;font-size: 12; color:#d35400;\\&quot;\\u003e\\u003cb\\u003eNASA JSC\\u003c/b\\u003e\\u003c/div\\u003e&quot;,\n  &quot;iconSize&quot;: [20, 20],\n  &quot;iconAnchor&quot;: [0, 0],\n  &quot;className&quot;: &quot;empty&quot;,\n});\n            marker_931124687c62dc0bc0035eb3ee3ee57b.setIcon(div_icon_7464c108aeb250b6f2861ee13d5cdb67);\n        \n    \n                marker_931124687c62dc0bc0035eb3ee3ee57b.setIcon(div_icon_7464c108aeb250b6f2861ee13d5cdb67);\n            \n&lt;/script&gt;\n&lt;/html&gt;\" style=\"position:absolute;width:100%;height:100%;left:0;top:0;border:none !important;\" allowfullscreen webkitallowfullscreen mozallowfullscreen></iframe></div></div>"
          },
          "metadata": {}
        }
      ],
      "execution_count": 22
    },
    {
      "cell_type": "markdown",
      "source": "and you should find a small yellow circle near the city of Houston and you can zoom-in to see a larger circle.\n",
      "metadata": {}
    },
    {
      "cell_type": "markdown",
      "source": "Now, let's add a circle for each launch site in data frame `launch_sites`\n",
      "metadata": {}
    },
    {
      "cell_type": "markdown",
      "source": "*TODO:*  Create and add `folium.Circle` and `folium.Marker` for each launch site on the site map\n",
      "metadata": {}
    },
    {
      "cell_type": "markdown",
      "source": "An example of folium.Circle:\n",
      "metadata": {}
    },
    {
      "cell_type": "markdown",
      "source": "`folium.Circle(coordinate, radius=1000, color='#000000', fill=True).add_child(folium.Popup(...))`\n",
      "metadata": {}
    },
    {
      "cell_type": "markdown",
      "source": "An example of folium.Marker:\n",
      "metadata": {}
    },
    {
      "cell_type": "markdown",
      "source": "`folium.map.Marker(coordinate, icon=DivIcon(icon_size=(20,20),icon_anchor=(0,0), html='<div style=\"font-size: 12; color:#d35400;\"><b>%s</b></div>' % 'label', ))`\n",
      "metadata": {}
    },
    {
      "cell_type": "code",
      "source": "# Initial the map\nsite_map = folium.Map(location=nasa_coordinate, zoom_start=5)\n\n# For each launch site, add a Circle object based on its coordinate (Lat, Long) values. In addition, add Launch site name as a popup label\nfor i in range (len(launch_sites_df.index)):\n    coordinate = [launch_sites_df[\"Lat\"][i], launch_sites_df[\"Long\"][i]]\n    circle = folium.Circle(coordinate, radius=100, color='#d35400', fill=True).add_child(folium.Popup(launch_sites_df[\"Launch Site\"][i]))\n    marker = folium.map.Marker(\n        coordinate,\n        icon=DivIcon(\n            icon_size=(20,20),\n            icon_anchor=(0,0),\n            html='<div style=\"font-size: 12; color:#d35400;\"><b>%s</b></div>' % launch_sites_df[\"Launch Site\"][i],\n            )\n        )\n    site_map.add_child(circle)\n    site_map.add_child(marker)\n\nsite_map",
      "metadata": {
        "trusted": true
      },
      "outputs": [
        {
          "execution_count": 26,
          "output_type": "execute_result",
          "data": {
            "text/plain": "<folium.folium.Map at 0x5d320d0>",
            "text/html": "<div style=\"width:100%;\"><div style=\"position:relative;width:100%;height:0;padding-bottom:60%;\"><span style=\"color:#565656\">Make this Notebook Trusted to load map: File -> Trust Notebook</span><iframe srcdoc=\"&lt;!DOCTYPE html&gt;\n&lt;html&gt;\n&lt;head&gt;\n    \n    &lt;meta http-equiv=&quot;content-type&quot; content=&quot;text/html; charset=UTF-8&quot; /&gt;\n    \n        &lt;script&gt;\n            L_NO_TOUCH = false;\n            L_DISABLE_3D = false;\n        &lt;/script&gt;\n    \n    &lt;style&gt;html, body {width: 100%;height: 100%;margin: 0;padding: 0;}&lt;/style&gt;\n    &lt;style&gt;#map {position:absolute;top:0;bottom:0;right:0;left:0;}&lt;/style&gt;\n    &lt;script src=&quot;https://cdn.jsdelivr.net/npm/leaflet@1.9.3/dist/leaflet.js&quot;&gt;&lt;/script&gt;\n    &lt;script src=&quot;https://code.jquery.com/jquery-3.7.1.min.js&quot;&gt;&lt;/script&gt;\n    &lt;script src=&quot;https://cdn.jsdelivr.net/npm/bootstrap@5.2.2/dist/js/bootstrap.bundle.min.js&quot;&gt;&lt;/script&gt;\n    &lt;script src=&quot;https://cdnjs.cloudflare.com/ajax/libs/Leaflet.awesome-markers/2.0.2/leaflet.awesome-markers.js&quot;&gt;&lt;/script&gt;\n    &lt;link rel=&quot;stylesheet&quot; href=&quot;https://cdn.jsdelivr.net/npm/leaflet@1.9.3/dist/leaflet.css&quot;/&gt;\n    &lt;link rel=&quot;stylesheet&quot; href=&quot;https://cdn.jsdelivr.net/npm/bootstrap@5.2.2/dist/css/bootstrap.min.css&quot;/&gt;\n    &lt;link rel=&quot;stylesheet&quot; href=&quot;https://netdna.bootstrapcdn.com/bootstrap/3.0.0/css/bootstrap-glyphicons.css&quot;/&gt;\n    &lt;link rel=&quot;stylesheet&quot; href=&quot;https://cdn.jsdelivr.net/npm/@fortawesome/fontawesome-free@6.2.0/css/all.min.css&quot;/&gt;\n    &lt;link rel=&quot;stylesheet&quot; href=&quot;https://cdnjs.cloudflare.com/ajax/libs/Leaflet.awesome-markers/2.0.2/leaflet.awesome-markers.css&quot;/&gt;\n    &lt;link rel=&quot;stylesheet&quot; href=&quot;https://cdn.jsdelivr.net/gh/python-visualization/folium/folium/templates/leaflet.awesome.rotate.min.css&quot;/&gt;\n    \n            &lt;meta name=&quot;viewport&quot; content=&quot;width=device-width,\n                initial-scale=1.0, maximum-scale=1.0, user-scalable=no&quot; /&gt;\n            &lt;style&gt;\n                #map_ceb625650c1f3df3c8c7c8e3a0928ef7 {\n                    position: relative;\n                    width: 100.0%;\n                    height: 100.0%;\n                    left: 0.0%;\n                    top: 0.0%;\n                }\n                .leaflet-container { font-size: 1rem; }\n            &lt;/style&gt;\n        \n&lt;/head&gt;\n&lt;body&gt;\n    \n    \n            &lt;div class=&quot;folium-map&quot; id=&quot;map_ceb625650c1f3df3c8c7c8e3a0928ef7&quot; &gt;&lt;/div&gt;\n        \n&lt;/body&gt;\n&lt;script&gt;\n    \n    \n            var map_ceb625650c1f3df3c8c7c8e3a0928ef7 = L.map(\n                &quot;map_ceb625650c1f3df3c8c7c8e3a0928ef7&quot;,\n                {\n                    center: [29.559684888503615, -95.0830971930759],\n                    crs: L.CRS.EPSG3857,\n                    ...{\n  &quot;zoom&quot;: 5,\n  &quot;zoomControl&quot;: true,\n  &quot;preferCanvas&quot;: false,\n}\n\n                }\n            );\n\n            \n\n        \n    \n            var tile_layer_c9b893e1f1e01a22c86d3e5f358e90ea = L.tileLayer(\n                &quot;https://tile.openstreetmap.org/{z}/{x}/{y}.png&quot;,\n                {\n  &quot;minZoom&quot;: 0,\n  &quot;maxZoom&quot;: 19,\n  &quot;maxNativeZoom&quot;: 19,\n  &quot;noWrap&quot;: false,\n  &quot;attribution&quot;: &quot;\\u0026copy; \\u003ca href=\\&quot;https://www.openstreetmap.org/copyright\\&quot;\\u003eOpenStreetMap\\u003c/a\\u003e contributors&quot;,\n  &quot;subdomains&quot;: &quot;abc&quot;,\n  &quot;detectRetina&quot;: false,\n  &quot;tms&quot;: false,\n  &quot;opacity&quot;: 1,\n}\n\n            );\n        \n    \n            tile_layer_c9b893e1f1e01a22c86d3e5f358e90ea.addTo(map_ceb625650c1f3df3c8c7c8e3a0928ef7);\n        \n    \n            var circle_5f9f47c212e34a1d011cab8b3d469117 = L.circle(\n                [29.5597, -95.0831],\n                {&quot;bubblingMouseEvents&quot;: true, &quot;color&quot;: &quot;#d35400&quot;, &quot;dashArray&quot;: null, &quot;dashOffset&quot;: null, &quot;fill&quot;: true, &quot;fillColor&quot;: &quot;#d35400&quot;, &quot;fillOpacity&quot;: 0.2, &quot;fillRule&quot;: &quot;evenodd&quot;, &quot;lineCap&quot;: &quot;round&quot;, &quot;lineJoin&quot;: &quot;round&quot;, &quot;opacity&quot;: 1.0, &quot;radius&quot;: 100, &quot;stroke&quot;: true, &quot;weight&quot;: 3}\n            ).addTo(map_ceb625650c1f3df3c8c7c8e3a0928ef7);\n        \n    \n        var popup_9306dd9f2ffc95beed4980fec9138cc8 = L.popup({\n  &quot;maxWidth&quot;: &quot;100%&quot;,\n});\n\n        \n            \n                var html_f845bb37ec48cf83c03c2ccc0b34baef = $(`&lt;div id=&quot;html_f845bb37ec48cf83c03c2ccc0b34baef&quot; style=&quot;width: 100.0%; height: 100.0%;&quot;&gt;Site A&lt;/div&gt;`)[0];\n                popup_9306dd9f2ffc95beed4980fec9138cc8.setContent(html_f845bb37ec48cf83c03c2ccc0b34baef);\n            \n        \n\n        circle_5f9f47c212e34a1d011cab8b3d469117.bindPopup(popup_9306dd9f2ffc95beed4980fec9138cc8)\n        ;\n\n        \n    \n    \n            var marker_1afeef014816b0cb04e261f4dd36459a = L.marker(\n                [29.5597, -95.0831],\n                {\n}\n            ).addTo(map_ceb625650c1f3df3c8c7c8e3a0928ef7);\n        \n    \n            var div_icon_3a53f89c6256504351e9ce6a747890f0 = L.divIcon({\n  &quot;html&quot;: &quot;\\u003cdiv style=\\&quot;font-size: 12; color:#d35400;\\&quot;\\u003e\\u003cb\\u003eSite A\\u003c/b\\u003e\\u003c/div\\u003e&quot;,\n  &quot;iconSize&quot;: [20, 20],\n  &quot;iconAnchor&quot;: [0, 0],\n  &quot;className&quot;: &quot;empty&quot;,\n});\n            marker_1afeef014816b0cb04e261f4dd36459a.setIcon(div_icon_3a53f89c6256504351e9ce6a747890f0);\n        \n    \n                marker_1afeef014816b0cb04e261f4dd36459a.setIcon(div_icon_3a53f89c6256504351e9ce6a747890f0);\n            \n    \n            var circle_2a7818240215af5a075042b9c9a57c18 = L.circle(\n                [28.5632, -80.5762],\n                {&quot;bubblingMouseEvents&quot;: true, &quot;color&quot;: &quot;#d35400&quot;, &quot;dashArray&quot;: null, &quot;dashOffset&quot;: null, &quot;fill&quot;: true, &quot;fillColor&quot;: &quot;#d35400&quot;, &quot;fillOpacity&quot;: 0.2, &quot;fillRule&quot;: &quot;evenodd&quot;, &quot;lineCap&quot;: &quot;round&quot;, &quot;lineJoin&quot;: &quot;round&quot;, &quot;opacity&quot;: 1.0, &quot;radius&quot;: 100, &quot;stroke&quot;: true, &quot;weight&quot;: 3}\n            ).addTo(map_ceb625650c1f3df3c8c7c8e3a0928ef7);\n        \n    \n        var popup_73898f369bd9ea77b760056abf67a3c4 = L.popup({\n  &quot;maxWidth&quot;: &quot;100%&quot;,\n});\n\n        \n            \n                var html_0309186ff5c912c6cb87d51c0f374a35 = $(`&lt;div id=&quot;html_0309186ff5c912c6cb87d51c0f374a35&quot; style=&quot;width: 100.0%; height: 100.0%;&quot;&gt;Site B&lt;/div&gt;`)[0];\n                popup_73898f369bd9ea77b760056abf67a3c4.setContent(html_0309186ff5c912c6cb87d51c0f374a35);\n            \n        \n\n        circle_2a7818240215af5a075042b9c9a57c18.bindPopup(popup_73898f369bd9ea77b760056abf67a3c4)\n        ;\n\n        \n    \n    \n            var marker_09e39f345f1fc5de6dec5637a590524e = L.marker(\n                [28.5632, -80.5762],\n                {\n}\n            ).addTo(map_ceb625650c1f3df3c8c7c8e3a0928ef7);\n        \n    \n            var div_icon_6b69faac44a03581402f39b99202a9c3 = L.divIcon({\n  &quot;html&quot;: &quot;\\u003cdiv style=\\&quot;font-size: 12; color:#d35400;\\&quot;\\u003e\\u003cb\\u003eSite B\\u003c/b\\u003e\\u003c/div\\u003e&quot;,\n  &quot;iconSize&quot;: [20, 20],\n  &quot;iconAnchor&quot;: [0, 0],\n  &quot;className&quot;: &quot;empty&quot;,\n});\n            marker_09e39f345f1fc5de6dec5637a590524e.setIcon(div_icon_6b69faac44a03581402f39b99202a9c3);\n        \n    \n                marker_09e39f345f1fc5de6dec5637a590524e.setIcon(div_icon_6b69faac44a03581402f39b99202a9c3);\n            \n    \n            var circle_e0e22f17dce554a9fbfd5dc57fddab41 = L.circle(\n                [25.9971, -97.156],\n                {&quot;bubblingMouseEvents&quot;: true, &quot;color&quot;: &quot;#d35400&quot;, &quot;dashArray&quot;: null, &quot;dashOffset&quot;: null, &quot;fill&quot;: true, &quot;fillColor&quot;: &quot;#d35400&quot;, &quot;fillOpacity&quot;: 0.2, &quot;fillRule&quot;: &quot;evenodd&quot;, &quot;lineCap&quot;: &quot;round&quot;, &quot;lineJoin&quot;: &quot;round&quot;, &quot;opacity&quot;: 1.0, &quot;radius&quot;: 100, &quot;stroke&quot;: true, &quot;weight&quot;: 3}\n            ).addTo(map_ceb625650c1f3df3c8c7c8e3a0928ef7);\n        \n    \n        var popup_8e6b5cdcf18d46d1574708b5dddd349a = L.popup({\n  &quot;maxWidth&quot;: &quot;100%&quot;,\n});\n\n        \n            \n                var html_e1e63054f3cef775be35427974fff1b3 = $(`&lt;div id=&quot;html_e1e63054f3cef775be35427974fff1b3&quot; style=&quot;width: 100.0%; height: 100.0%;&quot;&gt;Site C&lt;/div&gt;`)[0];\n                popup_8e6b5cdcf18d46d1574708b5dddd349a.setContent(html_e1e63054f3cef775be35427974fff1b3);\n            \n        \n\n        circle_e0e22f17dce554a9fbfd5dc57fddab41.bindPopup(popup_8e6b5cdcf18d46d1574708b5dddd349a)\n        ;\n\n        \n    \n    \n            var marker_7db9658017833038bea16f4fabcfaddd = L.marker(\n                [25.9971, -97.156],\n                {\n}\n            ).addTo(map_ceb625650c1f3df3c8c7c8e3a0928ef7);\n        \n    \n            var div_icon_0c68d9ac461550aea1f36d7b443e8c86 = L.divIcon({\n  &quot;html&quot;: &quot;\\u003cdiv style=\\&quot;font-size: 12; color:#d35400;\\&quot;\\u003e\\u003cb\\u003eSite C\\u003c/b\\u003e\\u003c/div\\u003e&quot;,\n  &quot;iconSize&quot;: [20, 20],\n  &quot;iconAnchor&quot;: [0, 0],\n  &quot;className&quot;: &quot;empty&quot;,\n});\n            marker_7db9658017833038bea16f4fabcfaddd.setIcon(div_icon_0c68d9ac461550aea1f36d7b443e8c86);\n        \n    \n                marker_7db9658017833038bea16f4fabcfaddd.setIcon(div_icon_0c68d9ac461550aea1f36d7b443e8c86);\n            \n&lt;/script&gt;\n&lt;/html&gt;\" style=\"position:absolute;width:100%;height:100%;left:0;top:0;border:none !important;\" allowfullscreen webkitallowfullscreen mozallowfullscreen></iframe></div></div>"
          },
          "metadata": {}
        }
      ],
      "execution_count": 26
    },
    {
      "cell_type": "markdown",
      "source": "The generated map with marked launch sites should look similar to the following:\n",
      "metadata": {}
    },
    {
      "cell_type": "markdown",
      "source": "<center>\n    <img src=\"https://cf-courses-data.s3.us.cloud-object-storage.appdomain.cloud/IBM-DS0321EN-SkillsNetwork/labs/module_3/images/launch_site_markers.png\">\n</center>\n",
      "metadata": {}
    },
    {
      "cell_type": "markdown",
      "source": "Now, you can explore the map by zoom-in/out the marked areas\n, and try to answer the following questions:\n\n*   Are all launch sites in proximity to the Equator line?\n*   Are all launch sites in very close proximity to the coast?\n\nAlso please try to explain your findings.\n",
      "metadata": {}
    },
    {
      "cell_type": "code",
      "source": "# Task 2: Mark the success/failed launches for each site on the map\nimport folium\nimport pandas as pd\nfrom folium import DivIcon\n\n# Sample data creation (replace this with loading your actual CSV file)\ndata = {\n    'Launch Site': ['Cape Canaveral', 'Kennedy Space Center', 'Vandenberg AFB', 'Boca Chica'],\n    'Lat': [28.5634, 28.5733, 34.6328, 25.9971],\n    'Long': [-80.5676, -80.6471, -120.6103, -97.1560],\n    'class': [1, 0, 1, 0]  # Success = 1, Failure = 0\n}\nspacex_df = pd.DataFrame(data)\n\n# Define NASA Johnson Space Center coordinates\nnasa_coordinate = [29.559684888503615, -95.0830971930759]\n\n# Initialize the map\nsite_map = folium.Map(location=nasa_coordinate, zoom_start=5)\n\n# Add a circle and marker for NASA Johnson Space Center\nfolium.Circle(\n    location=nasa_coordinate,\n    radius=1000,\n    color='#d35400',\n    fill=True\n).add_child(folium.Popup('NASA Johnson Space Center')).add_to(site_map)\n\nfolium.map.Marker(\n    nasa_coordinate,\n    icon=DivIcon(\n        icon_size=(20, 20),\n        icon_anchor=(0, 0),\n        html='<div style=\"font-size: 12px; color:#d35400;\"><b>%s</b></div>' % 'NASA JSC'\n    )\n).add_to(site_map)\n\n# Add circles and markers for each launch site\nfor index, row in spacex_df.iterrows():\n    # Add a Circle object\n    folium.Circle(\n        location=[row['Lat'], row['Long']],\n        radius=1000,\n        color='#000000',\n        fill=True,\n        fill_color='#3186cc',\n        popup=folium.Popup(row['Launch Site'], parse_html=True)\n    ).add_to(site_map)\n    \n    # Add a Marker object with success/failure icon\n    marker_color = 'green' if row['class'] == 1 else 'red'\n    folium.Marker(\n        location=[row['Lat'], row['Long']],\n        popup=f\"Site: {row['Launch Site']}, Class: {'Success' if row['class'] == 1 else 'Failure'}\",\n        icon=folium.Icon(color=marker_color)\n    ).add_to(site_map)\n\n# Save the updated map\nsite_map.save(\"Launch_Sites_Complete_Map.html\")\nprint(\"Map with all tasks completed! Open 'Launch_Sites_Complete_Map.html' to view it.\")  ",
      "metadata": {
        "trusted": true
      },
      "outputs": [
        {
          "name": "stdout",
          "text": "Map with all tasks completed! Open 'Launch_Sites_Complete_Map.html' to view it.\n",
          "output_type": "stream"
        }
      ],
      "execution_count": 24
    },
    {
      "cell_type": "markdown",
      "source": "Next, let's try to enhance the map by adding the launch outcomes for each site, and see which sites have high success rates.\nRecall that data frame spacex_df has detailed launch records, and the `class` column indicates if this launch was successful or not\n",
      "metadata": {}
    },
    {
      "cell_type": "code",
      "source": "spacex_df.tail(10)",
      "metadata": {
        "trusted": true
      },
      "outputs": [
        {
          "execution_count": 25,
          "output_type": "execute_result",
          "data": {
            "text/plain": "            Launch Site      Lat      Long  class\n0        Cape Canaveral  28.5634  -80.5676      1\n1  Kennedy Space Center  28.5733  -80.6471      0\n2        Vandenberg AFB  34.6328 -120.6103      1\n3            Boca Chica  25.9971  -97.1560      0",
            "text/html": "<div>\n<style scoped>\n    .dataframe tbody tr th:only-of-type {\n        vertical-align: middle;\n    }\n\n    .dataframe tbody tr th {\n        vertical-align: top;\n    }\n\n    .dataframe thead th {\n        text-align: right;\n    }\n</style>\n<table border=\"1\" class=\"dataframe\">\n  <thead>\n    <tr style=\"text-align: right;\">\n      <th></th>\n      <th>Launch Site</th>\n      <th>Lat</th>\n      <th>Long</th>\n      <th>class</th>\n    </tr>\n  </thead>\n  <tbody>\n    <tr>\n      <th>0</th>\n      <td>Cape Canaveral</td>\n      <td>28.5634</td>\n      <td>-80.5676</td>\n      <td>1</td>\n    </tr>\n    <tr>\n      <th>1</th>\n      <td>Kennedy Space Center</td>\n      <td>28.5733</td>\n      <td>-80.6471</td>\n      <td>0</td>\n    </tr>\n    <tr>\n      <th>2</th>\n      <td>Vandenberg AFB</td>\n      <td>34.6328</td>\n      <td>-120.6103</td>\n      <td>1</td>\n    </tr>\n    <tr>\n      <th>3</th>\n      <td>Boca Chica</td>\n      <td>25.9971</td>\n      <td>-97.1560</td>\n      <td>0</td>\n    </tr>\n  </tbody>\n</table>\n</div>"
          },
          "metadata": {}
        }
      ],
      "execution_count": 25
    },
    {
      "cell_type": "markdown",
      "source": "Next, let's create markers for all launch records.\nIf a launch was successful `(class=1)`, then we use a green marker and if a launch was failed, we use a red marker `(class=0)`\n",
      "metadata": {}
    },
    {
      "cell_type": "markdown",
      "source": "Note that a launch only happens in one of the four launch sites, which means many launch records will have the exact same coordinate. Marker clusters can be a good way to simplify a map containing many markers having the same coordinate.\n",
      "metadata": {}
    },
    {
      "cell_type": "markdown",
      "source": "Let's first create a `MarkerCluster` object\n",
      "metadata": {}
    },
    {
      "cell_type": "code",
      "source": " \nfrom folium.plugins import MarkerCluster\nimport folium\nimport pandas as pd\n\n# Sample spacex_df DataFrame (replace with your actual dataset)\ndata = {\n    'Launch Site': ['Cape Canaveral', 'Kennedy Space Center', 'Vandenberg AFB', 'Boca Chica'],\n    'Lat': [28.5634, 28.5733, 34.6328, 25.9971],\n    'Long': [-80.5676, -80.6471, -120.6103, -97.1560],\n    'class': [1, 0, 1, 0]  # Success = 1, Failure = 0\n}\nspacex_df = pd.DataFrame(data)\n\n# Initialize the map centered at NASA Johnson Space Center\nnasa_coordinate = [29.559684888503615, -95.0830971930759]\nsite_map = folium.Map(location=nasa_coordinate, zoom_start=5)\n\n# Create a MarkerCluster object\nmarker_cluster = MarkerCluster().add_to(site_map)\n\n# Add markers for each launch record to the MarkerCluster\nfor index, row in spacex_df.iterrows():\n    # Determine marker color based on success/failure\n    marker_color = 'green' if row['class'] == 1 else 'red'\n    \n    # Add the marker to the cluster\n    folium.Marker(\n        location=[row['Lat'], row['Long']],\n        popup=f\"Site: {row['Launch Site']}, Class: {'Success' if row['class'] == 1 else 'Failure'}\",\n        icon=folium.Icon(color=marker_color)\n    ).add_to(marker_cluster)\n\n# Save the map\nsite_map.save(\"Launch_Sites_With_MarkerCluster.html\")\nprint(\"Map with marker clusters created! Open 'Launch_Sites_With_MarkerCluster.html' to view it.\")",
      "metadata": {
        "trusted": true
      },
      "outputs": [
        {
          "name": "stdout",
          "text": "Map with marker clusters created! Open 'Launch_Sites_With_MarkerCluster.html' to view it.\n",
          "output_type": "stream"
        }
      ],
      "execution_count": 11
    },
    {
      "cell_type": "markdown",
      "source": "*TODO:* Create a new column in `spacex_df` dataframe called `marker_color` to store the marker colors based on the `class` value\n",
      "metadata": {}
    },
    {
      "cell_type": "code",
      "source": "\n# Apply a function to check the value of `class` column\n# If class=1, marker_color value will be green\n# If class=0, marker_color value will be red\n# Apply a function to check the value of `class` column\n# If class=1, marker_color value will be green\n# If class=0, marker_color value will be red\n# Define a function to assign marker colors based on the 'class' column\ndef assign_marker_color(launch_class):\n    if launch_class == 1:\n        return 'green'  # Successful launches\n    else:\n        return 'red'  # Failed launches\n\n# Apply the function to the 'class' column to create a new 'marker_color' column\nspacex_df['marker_color'] = spacex_df['class'].apply(assign_marker_color)\n\n# Display the updated DataFrame to confirm the new column\nprint(spacex_df)",
      "metadata": {
        "trusted": true
      },
      "outputs": [],
      "execution_count": null
    },
    {
      "cell_type": "markdown",
      "source": "*TODO:* For each launch result in `spacex_df` data frame, add a `folium.Marker` to `marker_cluster`\n",
      "metadata": {}
    },
    {
      "cell_type": "code",
      "source": "#popup=f\"Site: {record['Launch Site']}, Class: {'Success' if record['class'] == 1 else 'Failure'}\" \n \nfrom folium.plugins import MarkerCluster\nimport folium\nimport pandas as pd\n\n# Sample spacex_df DataFrame (replace with your actual dataset)\ndata = {\n    'Launch Site': ['Cape Canaveral', 'Kennedy Space Center', 'Vandenberg AFB', 'Boca Chica'],\n    'Lat': [28.5634, 28.5733, 34.6328, 25.9971],\n    'Long': [-80.5676, -80.6471, -120.6103, -97.1560],\n    'class': [1, 0, 1, 0]  # Success = 1, Failure = 0\n}\nspacex_df = pd.DataFrame(data)\n\n# Initialize the map centered at NASA Johnson Space Center\nnasa_coordinate = [29.559684888503615, -95.0830971930759]\nsite_map = folium.Map(location=nasa_coordinate, zoom_start=5)\n\n# Create a MarkerCluster object\nmarker_cluster = MarkerCluster().add_to(site_map)\n\n# Iterate through each row in spacex_df DataFrame\nfor index, record in spacex_df.iterrows():\n    # Define marker color based on success/failure\n    marker_color = 'green' if record['class'] == 1 else 'red'\n\n    # Create a Marker object with its coordinate and icon color\n    marker = folium.Marker(\n        location=[record['Lat'], record['Long']],\n        popup=f\"Site: {record['Launch Site']}, Class: {'Success' if record['class'] == 1 else 'Failure'}\",\n        icon=folium.Icon(color=marker_color, icon_color='white')  # Customize marker\n    )\n\n    # Add the marker to the MarkerCluster\n    marker_cluster.add_child(marker)\n\n# Save the map\nsite_map.save(\"Launch_Sites_Markers_With_Cluster.html\")\nprint(\"Map with clustered markers created! Open 'Launch_Sites_Markers_With_Cluster.html' to view it.\") ",
      "metadata": {
        "trusted": true
      },
      "outputs": [
        {
          "name": "stdout",
          "text": "Map with clustered markers created! Open 'Launch_Sites_Markers_With_Cluster.html' to view it.\n",
          "output_type": "stream"
        }
      ],
      "execution_count": 12
    },
    {
      "cell_type": "markdown",
      "source": "Your updated map may look like the following screenshots:\n",
      "metadata": {}
    },
    {
      "cell_type": "markdown",
      "source": "<center>\n    <img src=\"https://cf-courses-data.s3.us.cloud-object-storage.appdomain.cloud/IBM-DS0321EN-SkillsNetwork/labs/module_3/images/launch_site_marker_cluster.png\">\n</center>\n",
      "metadata": {}
    },
    {
      "cell_type": "markdown",
      "source": "<center>\n    <img src=\"https://cf-courses-data.s3.us.cloud-object-storage.appdomain.cloud/IBM-DS0321EN-SkillsNetwork/labs/module_3/images/launch_site_marker_cluster_zoomed.png\">\n</center>\n",
      "metadata": {}
    },
    {
      "cell_type": "markdown",
      "source": "From the color-labeled markers in marker clusters, you should be able to easily identify which launch sites have relatively high success rates.\n",
      "metadata": {}
    },
    {
      "cell_type": "markdown",
      "source": "TASK 3: Calculate the distances between a launch site to its proximities\n ",
      "metadata": {}
    },
    {
      "cell_type": "markdown",
      "source": "Next, we need to explore and analyze the proximities of launch sites.\n",
      "metadata": {}
    },
    {
      "cell_type": "markdown",
      "source": "Let's first add a `MousePosition` on the map to get coordinate for a mouse over a point on the map. As such, while you are exploring the map, you can easily find the coordinates of any points of interests (such as railway)\n",
      "metadata": {}
    },
    {
      "cell_type": "code",
      "source": "# Add Mouse Position to get the coordinate (Lat, Long) for a mouse over on the map\n# Add Mouse Position to get the coordinate (Lat, Long) for a mouse over on the map\nformatter = \"function(num) {return L.Util.formatNum(num, 5);};\"\nmouse_position = MousePosition(\n    position='topright',\n    separator=' Long: ',\n    empty_string='NaN',\n    lng_first=False,\n    num_digits=20,\n    prefix='Lat:',\n    lat_formatter=formatter,\n    lng_formatter=formatter,\n)\n\nsite_map.add_child(mouse_position)\nsite_map",
      "metadata": {
        "trusted": true
      },
      "outputs": [
        {
          "execution_count": 38,
          "output_type": "execute_result",
          "data": {
            "text/plain": "<folium.folium.Map at 0x5d320d0>",
            "text/html": "<div style=\"width:100%;\"><div style=\"position:relative;width:100%;height:0;padding-bottom:60%;\"><span style=\"color:#565656\">Make this Notebook Trusted to load map: File -> Trust Notebook</span><iframe srcdoc=\"&lt;!DOCTYPE html&gt;\n&lt;html&gt;\n&lt;head&gt;\n    \n    &lt;meta http-equiv=&quot;content-type&quot; content=&quot;text/html; charset=UTF-8&quot; /&gt;\n    \n        &lt;script&gt;\n            L_NO_TOUCH = false;\n            L_DISABLE_3D = false;\n        &lt;/script&gt;\n    \n    &lt;style&gt;html, body {width: 100%;height: 100%;margin: 0;padding: 0;}&lt;/style&gt;\n    &lt;style&gt;#map {position:absolute;top:0;bottom:0;right:0;left:0;}&lt;/style&gt;\n    &lt;script src=&quot;https://cdn.jsdelivr.net/npm/leaflet@1.9.3/dist/leaflet.js&quot;&gt;&lt;/script&gt;\n    &lt;script src=&quot;https://code.jquery.com/jquery-3.7.1.min.js&quot;&gt;&lt;/script&gt;\n    &lt;script src=&quot;https://cdn.jsdelivr.net/npm/bootstrap@5.2.2/dist/js/bootstrap.bundle.min.js&quot;&gt;&lt;/script&gt;\n    &lt;script src=&quot;https://cdnjs.cloudflare.com/ajax/libs/Leaflet.awesome-markers/2.0.2/leaflet.awesome-markers.js&quot;&gt;&lt;/script&gt;\n    &lt;link rel=&quot;stylesheet&quot; href=&quot;https://cdn.jsdelivr.net/npm/leaflet@1.9.3/dist/leaflet.css&quot;/&gt;\n    &lt;link rel=&quot;stylesheet&quot; href=&quot;https://cdn.jsdelivr.net/npm/bootstrap@5.2.2/dist/css/bootstrap.min.css&quot;/&gt;\n    &lt;link rel=&quot;stylesheet&quot; href=&quot;https://netdna.bootstrapcdn.com/bootstrap/3.0.0/css/bootstrap-glyphicons.css&quot;/&gt;\n    &lt;link rel=&quot;stylesheet&quot; href=&quot;https://cdn.jsdelivr.net/npm/@fortawesome/fontawesome-free@6.2.0/css/all.min.css&quot;/&gt;\n    &lt;link rel=&quot;stylesheet&quot; href=&quot;https://cdnjs.cloudflare.com/ajax/libs/Leaflet.awesome-markers/2.0.2/leaflet.awesome-markers.css&quot;/&gt;\n    &lt;link rel=&quot;stylesheet&quot; href=&quot;https://cdn.jsdelivr.net/gh/python-visualization/folium/folium/templates/leaflet.awesome.rotate.min.css&quot;/&gt;\n    \n            &lt;meta name=&quot;viewport&quot; content=&quot;width=device-width,\n                initial-scale=1.0, maximum-scale=1.0, user-scalable=no&quot; /&gt;\n            &lt;style&gt;\n                #map_ceb625650c1f3df3c8c7c8e3a0928ef7 {\n                    position: relative;\n                    width: 100.0%;\n                    height: 100.0%;\n                    left: 0.0%;\n                    top: 0.0%;\n                }\n                .leaflet-container { font-size: 1rem; }\n            &lt;/style&gt;\n        \n    &lt;script src=&quot;https://cdn.jsdelivr.net/gh/ardhi/Leaflet.MousePosition/src/L.Control.MousePosition.min.js&quot;&gt;&lt;/script&gt;\n    &lt;link rel=&quot;stylesheet&quot; href=&quot;https://cdn.jsdelivr.net/gh/ardhi/Leaflet.MousePosition/src/L.Control.MousePosition.min.css&quot;/&gt;\n&lt;/head&gt;\n&lt;body&gt;\n    \n    \n            &lt;div class=&quot;folium-map&quot; id=&quot;map_ceb625650c1f3df3c8c7c8e3a0928ef7&quot; &gt;&lt;/div&gt;\n        \n&lt;/body&gt;\n&lt;script&gt;\n    \n    \n            var map_ceb625650c1f3df3c8c7c8e3a0928ef7 = L.map(\n                &quot;map_ceb625650c1f3df3c8c7c8e3a0928ef7&quot;,\n                {\n                    center: [29.559684888503615, -95.0830971930759],\n                    crs: L.CRS.EPSG3857,\n                    ...{\n  &quot;zoom&quot;: 5,\n  &quot;zoomControl&quot;: true,\n  &quot;preferCanvas&quot;: false,\n}\n\n                }\n            );\n\n            \n\n        \n    \n            var tile_layer_c9b893e1f1e01a22c86d3e5f358e90ea = L.tileLayer(\n                &quot;https://tile.openstreetmap.org/{z}/{x}/{y}.png&quot;,\n                {\n  &quot;minZoom&quot;: 0,\n  &quot;maxZoom&quot;: 19,\n  &quot;maxNativeZoom&quot;: 19,\n  &quot;noWrap&quot;: false,\n  &quot;attribution&quot;: &quot;\\u0026copy; \\u003ca href=\\&quot;https://www.openstreetmap.org/copyright\\&quot;\\u003eOpenStreetMap\\u003c/a\\u003e contributors&quot;,\n  &quot;subdomains&quot;: &quot;abc&quot;,\n  &quot;detectRetina&quot;: false,\n  &quot;tms&quot;: false,\n  &quot;opacity&quot;: 1,\n}\n\n            );\n        \n    \n            tile_layer_c9b893e1f1e01a22c86d3e5f358e90ea.addTo(map_ceb625650c1f3df3c8c7c8e3a0928ef7);\n        \n    \n            var circle_5f9f47c212e34a1d011cab8b3d469117 = L.circle(\n                [29.5597, -95.0831],\n                {&quot;bubblingMouseEvents&quot;: true, &quot;color&quot;: &quot;#d35400&quot;, &quot;dashArray&quot;: null, &quot;dashOffset&quot;: null, &quot;fill&quot;: true, &quot;fillColor&quot;: &quot;#d35400&quot;, &quot;fillOpacity&quot;: 0.2, &quot;fillRule&quot;: &quot;evenodd&quot;, &quot;lineCap&quot;: &quot;round&quot;, &quot;lineJoin&quot;: &quot;round&quot;, &quot;opacity&quot;: 1.0, &quot;radius&quot;: 100, &quot;stroke&quot;: true, &quot;weight&quot;: 3}\n            ).addTo(map_ceb625650c1f3df3c8c7c8e3a0928ef7);\n        \n    \n        var popup_9306dd9f2ffc95beed4980fec9138cc8 = L.popup({\n  &quot;maxWidth&quot;: &quot;100%&quot;,\n});\n\n        \n            \n                var html_f845bb37ec48cf83c03c2ccc0b34baef = $(`&lt;div id=&quot;html_f845bb37ec48cf83c03c2ccc0b34baef&quot; style=&quot;width: 100.0%; height: 100.0%;&quot;&gt;Site A&lt;/div&gt;`)[0];\n                popup_9306dd9f2ffc95beed4980fec9138cc8.setContent(html_f845bb37ec48cf83c03c2ccc0b34baef);\n            \n        \n\n        circle_5f9f47c212e34a1d011cab8b3d469117.bindPopup(popup_9306dd9f2ffc95beed4980fec9138cc8)\n        ;\n\n        \n    \n    \n            var marker_1afeef014816b0cb04e261f4dd36459a = L.marker(\n                [29.5597, -95.0831],\n                {\n}\n            ).addTo(map_ceb625650c1f3df3c8c7c8e3a0928ef7);\n        \n    \n            var div_icon_3a53f89c6256504351e9ce6a747890f0 = L.divIcon({\n  &quot;html&quot;: &quot;\\u003cdiv style=\\&quot;font-size: 12; color:#d35400;\\&quot;\\u003e\\u003cb\\u003eSite A\\u003c/b\\u003e\\u003c/div\\u003e&quot;,\n  &quot;iconSize&quot;: [20, 20],\n  &quot;iconAnchor&quot;: [0, 0],\n  &quot;className&quot;: &quot;empty&quot;,\n});\n            marker_1afeef014816b0cb04e261f4dd36459a.setIcon(div_icon_3a53f89c6256504351e9ce6a747890f0);\n        \n    \n                marker_1afeef014816b0cb04e261f4dd36459a.setIcon(div_icon_3a53f89c6256504351e9ce6a747890f0);\n            \n    \n            var circle_2a7818240215af5a075042b9c9a57c18 = L.circle(\n                [28.5632, -80.5762],\n                {&quot;bubblingMouseEvents&quot;: true, &quot;color&quot;: &quot;#d35400&quot;, &quot;dashArray&quot;: null, &quot;dashOffset&quot;: null, &quot;fill&quot;: true, &quot;fillColor&quot;: &quot;#d35400&quot;, &quot;fillOpacity&quot;: 0.2, &quot;fillRule&quot;: &quot;evenodd&quot;, &quot;lineCap&quot;: &quot;round&quot;, &quot;lineJoin&quot;: &quot;round&quot;, &quot;opacity&quot;: 1.0, &quot;radius&quot;: 100, &quot;stroke&quot;: true, &quot;weight&quot;: 3}\n            ).addTo(map_ceb625650c1f3df3c8c7c8e3a0928ef7);\n        \n    \n        var popup_73898f369bd9ea77b760056abf67a3c4 = L.popup({\n  &quot;maxWidth&quot;: &quot;100%&quot;,\n});\n\n        \n            \n                var html_0309186ff5c912c6cb87d51c0f374a35 = $(`&lt;div id=&quot;html_0309186ff5c912c6cb87d51c0f374a35&quot; style=&quot;width: 100.0%; height: 100.0%;&quot;&gt;Site B&lt;/div&gt;`)[0];\n                popup_73898f369bd9ea77b760056abf67a3c4.setContent(html_0309186ff5c912c6cb87d51c0f374a35);\n            \n        \n\n        circle_2a7818240215af5a075042b9c9a57c18.bindPopup(popup_73898f369bd9ea77b760056abf67a3c4)\n        ;\n\n        \n    \n    \n            var marker_09e39f345f1fc5de6dec5637a590524e = L.marker(\n                [28.5632, -80.5762],\n                {\n}\n            ).addTo(map_ceb625650c1f3df3c8c7c8e3a0928ef7);\n        \n    \n            var div_icon_6b69faac44a03581402f39b99202a9c3 = L.divIcon({\n  &quot;html&quot;: &quot;\\u003cdiv style=\\&quot;font-size: 12; color:#d35400;\\&quot;\\u003e\\u003cb\\u003eSite B\\u003c/b\\u003e\\u003c/div\\u003e&quot;,\n  &quot;iconSize&quot;: [20, 20],\n  &quot;iconAnchor&quot;: [0, 0],\n  &quot;className&quot;: &quot;empty&quot;,\n});\n            marker_09e39f345f1fc5de6dec5637a590524e.setIcon(div_icon_6b69faac44a03581402f39b99202a9c3);\n        \n    \n                marker_09e39f345f1fc5de6dec5637a590524e.setIcon(div_icon_6b69faac44a03581402f39b99202a9c3);\n            \n    \n            var circle_e0e22f17dce554a9fbfd5dc57fddab41 = L.circle(\n                [25.9971, -97.156],\n                {&quot;bubblingMouseEvents&quot;: true, &quot;color&quot;: &quot;#d35400&quot;, &quot;dashArray&quot;: null, &quot;dashOffset&quot;: null, &quot;fill&quot;: true, &quot;fillColor&quot;: &quot;#d35400&quot;, &quot;fillOpacity&quot;: 0.2, &quot;fillRule&quot;: &quot;evenodd&quot;, &quot;lineCap&quot;: &quot;round&quot;, &quot;lineJoin&quot;: &quot;round&quot;, &quot;opacity&quot;: 1.0, &quot;radius&quot;: 100, &quot;stroke&quot;: true, &quot;weight&quot;: 3}\n            ).addTo(map_ceb625650c1f3df3c8c7c8e3a0928ef7);\n        \n    \n        var popup_8e6b5cdcf18d46d1574708b5dddd349a = L.popup({\n  &quot;maxWidth&quot;: &quot;100%&quot;,\n});\n\n        \n            \n                var html_e1e63054f3cef775be35427974fff1b3 = $(`&lt;div id=&quot;html_e1e63054f3cef775be35427974fff1b3&quot; style=&quot;width: 100.0%; height: 100.0%;&quot;&gt;Site C&lt;/div&gt;`)[0];\n                popup_8e6b5cdcf18d46d1574708b5dddd349a.setContent(html_e1e63054f3cef775be35427974fff1b3);\n            \n        \n\n        circle_e0e22f17dce554a9fbfd5dc57fddab41.bindPopup(popup_8e6b5cdcf18d46d1574708b5dddd349a)\n        ;\n\n        \n    \n    \n            var marker_7db9658017833038bea16f4fabcfaddd = L.marker(\n                [25.9971, -97.156],\n                {\n}\n            ).addTo(map_ceb625650c1f3df3c8c7c8e3a0928ef7);\n        \n    \n            var div_icon_0c68d9ac461550aea1f36d7b443e8c86 = L.divIcon({\n  &quot;html&quot;: &quot;\\u003cdiv style=\\&quot;font-size: 12; color:#d35400;\\&quot;\\u003e\\u003cb\\u003eSite C\\u003c/b\\u003e\\u003c/div\\u003e&quot;,\n  &quot;iconSize&quot;: [20, 20],\n  &quot;iconAnchor&quot;: [0, 0],\n  &quot;className&quot;: &quot;empty&quot;,\n});\n            marker_7db9658017833038bea16f4fabcfaddd.setIcon(div_icon_0c68d9ac461550aea1f36d7b443e8c86);\n        \n    \n                marker_7db9658017833038bea16f4fabcfaddd.setIcon(div_icon_0c68d9ac461550aea1f36d7b443e8c86);\n            \n    \n            tile_layer_c9b893e1f1e01a22c86d3e5f358e90ea.addTo(map_ceb625650c1f3df3c8c7c8e3a0928ef7);\n        \n    \n                marker_1afeef014816b0cb04e261f4dd36459a.setIcon(div_icon_3a53f89c6256504351e9ce6a747890f0);\n            \n    \n                marker_09e39f345f1fc5de6dec5637a590524e.setIcon(div_icon_6b69faac44a03581402f39b99202a9c3);\n            \n    \n                marker_7db9658017833038bea16f4fabcfaddd.setIcon(div_icon_0c68d9ac461550aea1f36d7b443e8c86);\n            \n    \n            var poly_line_ba7b2bc235f3f766861f94087211c3c4 = L.polyline(\n                [[28.563197, -80.57682], [28.56386, -80.56809]],\n                {&quot;bubblingMouseEvents&quot;: true, &quot;color&quot;: &quot;#3388ff&quot;, &quot;dashArray&quot;: null, &quot;dashOffset&quot;: null, &quot;fill&quot;: false, &quot;fillColor&quot;: &quot;#3388ff&quot;, &quot;fillOpacity&quot;: 0.2, &quot;fillRule&quot;: &quot;evenodd&quot;, &quot;lineCap&quot;: &quot;round&quot;, &quot;lineJoin&quot;: &quot;round&quot;, &quot;noClip&quot;: false, &quot;opacity&quot;: 1.0, &quot;smoothFactor&quot;: 1.0, &quot;stroke&quot;: true, &quot;weight&quot;: 1}\n            ).addTo(map_ceb625650c1f3df3c8c7c8e3a0928ef7);\n        \n    \n            tile_layer_c9b893e1f1e01a22c86d3e5f358e90ea.addTo(map_ceb625650c1f3df3c8c7c8e3a0928ef7);\n        \n    \n                marker_1afeef014816b0cb04e261f4dd36459a.setIcon(div_icon_3a53f89c6256504351e9ce6a747890f0);\n            \n    \n                marker_09e39f345f1fc5de6dec5637a590524e.setIcon(div_icon_6b69faac44a03581402f39b99202a9c3);\n            \n    \n                marker_7db9658017833038bea16f4fabcfaddd.setIcon(div_icon_0c68d9ac461550aea1f36d7b443e8c86);\n            \n    \n            var mouse_position_487f3b1146e41f2e9525a108935aa2c4 = new L.Control.MousePosition(\n                {\n  &quot;position&quot;: &quot;topright&quot;,\n  &quot;separator&quot;: &quot; Long: &quot;,\n  &quot;emptyString&quot;: &quot;NaN&quot;,\n  &quot;lngFirst&quot;: false,\n  &quot;numDigits&quot;: 20,\n  &quot;prefix&quot;: &quot;Lat:&quot;,\n}\n            );\n            mouse_position_487f3b1146e41f2e9525a108935aa2c4.options[&quot;latFormatter&quot;] =\n                function(num) {return L.Util.formatNum(num, 5);};;\n            mouse_position_487f3b1146e41f2e9525a108935aa2c4.options[&quot;lngFormatter&quot;] =\n                function(num) {return L.Util.formatNum(num, 5);};;\n            map_ceb625650c1f3df3c8c7c8e3a0928ef7.addControl(mouse_position_487f3b1146e41f2e9525a108935aa2c4);\n        \n&lt;/script&gt;\n&lt;/html&gt;\" style=\"position:absolute;width:100%;height:100%;left:0;top:0;border:none !important;\" allowfullscreen webkitallowfullscreen mozallowfullscreen></iframe></div></div>"
          },
          "metadata": {}
        }
      ],
      "execution_count": 38
    },
    {
      "cell_type": "markdown",
      "source": "Now zoom in to a launch site and explore its proximity to see if you can easily find any railway, highway, coastline, etc. Move your mouse to these points and mark down their coordinates (shown on the top-left) in order to the distance to the launch site.\n",
      "metadata": {}
    },
    {
      "cell_type": "markdown",
      "source": "Now zoom in to a launch site and explore its proximity to see if you can easily find any railway, highway, coastline, etc. Move your mouse to these points and mark down their coordinates (shown on the top-left) in order to the distance to the launch site.\n",
      "metadata": {}
    },
    {
      "cell_type": "code",
      "source": "from math import sin, cos, sqrt, atan2, radians\n\ndef calculate_distance(lat1, lon1, lat2, lon2):\n    # approximate radius of earth in km\n    R = 6373.0\n\n    lat1 = radians(lat1)\n    lon1 = radians(lon1)\n    lat2 = radians(lat2)\n    lon2 = radians(lon2)\n\n    dlon = lon2 - lon1\n    dlat = lat2 - lat1\n\n    a = sin(dlat / 2)**2 + cos(lat1) * cos(lat2) * sin(dlon / 2)**2\n    c = 2 * atan2(sqrt(a), sqrt(1 - a))\n\n    distance = R * c\n    return distance",
      "metadata": {
        "trusted": true
      },
      "outputs": [],
      "execution_count": 34
    },
    {
      "cell_type": "markdown",
      "source": "*TODO:* Mark down a point on the closest coastline using MousePosition and calculate the distance between the coastline point and the launch site.\n",
      "metadata": {}
    },
    {
      "cell_type": "code",
      "source": "# find coordinate of the closet coastline\n# e.g.,: Lat: 28.56367  Lon: -80.57163\n# distance_coastline = calculate_distance(launch_site_lat, launch_site_lon, coastline_lat, coastline_lon)\n\nlaunch_site_lat = 28.563197 #CCAFS SLC-40\nlaunch_site_lon = -80.57682 #CCAFS SLC-40\ncoastline_lat = 28.56386\ncoastline_lon = -80.56809\ndistance_coastline = calculate_distance(launch_site_lat, launch_site_lon, coastline_lat, coastline_lon)\nprint('Distance to the closest coastline: ',distance_coastline, ' km') ",
      "metadata": {
        "trusted": true
      },
      "outputs": [
        {
          "name": "stdout",
          "text": "Distance to the closest coastline:  0.8560316009330935  km\n",
          "output_type": "stream"
        }
      ],
      "execution_count": 35
    },
    {
      "cell_type": "code",
      "source": "# Create and add a folium.Marker on your selected closest coastline point on the map\n# Display the distance between coastline point and launch site using the icon property \n# for example\n# distance_marker = folium.Marker(\n#    coordinate,\n#    icon=DivIcon(\n#        icon_size=(20,20),\n#        icon_anchor=(0,0),\n#        html='<div style=\"font-size: 12; color:#d35400;\"><b>%s</b></div>' % \"{:10.2f} KM\".format(distance),\n#        )\n#    )\n\n\npoint_coord = [coastline_lat, coastline_lon]\ndistance_marker = folium.Marker(\n    point_coord,\n    icon=DivIcon(\n        icon_size=(20,20),\n        icon_anchor=(0,0),\n        html='<div style=\"font-size: 12; color:#d35400;\"><b>%s</b></div>' % \"{:10.2f} KM\".format(distance_coastline),\n        )\n    ) ",
      "metadata": {
        "trusted": true
      },
      "outputs": [],
      "execution_count": 36
    },
    {
      "cell_type": "markdown",
      "source": "*TODO:* Draw a `PolyLine` between a launch site to the selected coastline point\n",
      "metadata": {}
    },
    {
      "cell_type": "code",
      "source": "# Create a `folium.PolyLine` object using the coastline coordinates and launch site coordinate\n# lines=folium.PolyLine(locations=coordinates, weight=1)\n\nmarker_cluster.add_child(distance_marker)\ncoordinates = [[launch_site_lat, launch_site_lon], [coastline_lat, coastline_lon]]\nlines=folium.PolyLine(locations=coordinates, weight=1)\nsite_map.add_child(lines)\nsite_map",
      "metadata": {
        "trusted": true
      },
      "outputs": [
        {
          "execution_count": 40,
          "output_type": "execute_result",
          "data": {
            "text/plain": "<folium.folium.Map at 0x5d320d0>",
            "text/html": "<div style=\"width:100%;\"><div style=\"position:relative;width:100%;height:0;padding-bottom:60%;\"><span style=\"color:#565656\">Make this Notebook Trusted to load map: File -> Trust Notebook</span><iframe srcdoc=\"&lt;!DOCTYPE html&gt;\n&lt;html&gt;\n&lt;head&gt;\n    \n    &lt;meta http-equiv=&quot;content-type&quot; content=&quot;text/html; charset=UTF-8&quot; /&gt;\n    \n        &lt;script&gt;\n            L_NO_TOUCH = false;\n            L_DISABLE_3D = false;\n        &lt;/script&gt;\n    \n    &lt;style&gt;html, body {width: 100%;height: 100%;margin: 0;padding: 0;}&lt;/style&gt;\n    &lt;style&gt;#map {position:absolute;top:0;bottom:0;right:0;left:0;}&lt;/style&gt;\n    &lt;script src=&quot;https://cdn.jsdelivr.net/npm/leaflet@1.9.3/dist/leaflet.js&quot;&gt;&lt;/script&gt;\n    &lt;script src=&quot;https://code.jquery.com/jquery-3.7.1.min.js&quot;&gt;&lt;/script&gt;\n    &lt;script src=&quot;https://cdn.jsdelivr.net/npm/bootstrap@5.2.2/dist/js/bootstrap.bundle.min.js&quot;&gt;&lt;/script&gt;\n    &lt;script src=&quot;https://cdnjs.cloudflare.com/ajax/libs/Leaflet.awesome-markers/2.0.2/leaflet.awesome-markers.js&quot;&gt;&lt;/script&gt;\n    &lt;link rel=&quot;stylesheet&quot; href=&quot;https://cdn.jsdelivr.net/npm/leaflet@1.9.3/dist/leaflet.css&quot;/&gt;\n    &lt;link rel=&quot;stylesheet&quot; href=&quot;https://cdn.jsdelivr.net/npm/bootstrap@5.2.2/dist/css/bootstrap.min.css&quot;/&gt;\n    &lt;link rel=&quot;stylesheet&quot; href=&quot;https://netdna.bootstrapcdn.com/bootstrap/3.0.0/css/bootstrap-glyphicons.css&quot;/&gt;\n    &lt;link rel=&quot;stylesheet&quot; href=&quot;https://cdn.jsdelivr.net/npm/@fortawesome/fontawesome-free@6.2.0/css/all.min.css&quot;/&gt;\n    &lt;link rel=&quot;stylesheet&quot; href=&quot;https://cdnjs.cloudflare.com/ajax/libs/Leaflet.awesome-markers/2.0.2/leaflet.awesome-markers.css&quot;/&gt;\n    &lt;link rel=&quot;stylesheet&quot; href=&quot;https://cdn.jsdelivr.net/gh/python-visualization/folium/folium/templates/leaflet.awesome.rotate.min.css&quot;/&gt;\n    \n            &lt;meta name=&quot;viewport&quot; content=&quot;width=device-width,\n                initial-scale=1.0, maximum-scale=1.0, user-scalable=no&quot; /&gt;\n            &lt;style&gt;\n                #map_ceb625650c1f3df3c8c7c8e3a0928ef7 {\n                    position: relative;\n                    width: 100.0%;\n                    height: 100.0%;\n                    left: 0.0%;\n                    top: 0.0%;\n                }\n                .leaflet-container { font-size: 1rem; }\n            &lt;/style&gt;\n        \n    &lt;script src=&quot;https://cdn.jsdelivr.net/gh/ardhi/Leaflet.MousePosition/src/L.Control.MousePosition.min.js&quot;&gt;&lt;/script&gt;\n    &lt;link rel=&quot;stylesheet&quot; href=&quot;https://cdn.jsdelivr.net/gh/ardhi/Leaflet.MousePosition/src/L.Control.MousePosition.min.css&quot;/&gt;\n&lt;/head&gt;\n&lt;body&gt;\n    \n    \n            &lt;div class=&quot;folium-map&quot; id=&quot;map_ceb625650c1f3df3c8c7c8e3a0928ef7&quot; &gt;&lt;/div&gt;\n        \n&lt;/body&gt;\n&lt;script&gt;\n    \n    \n            var map_ceb625650c1f3df3c8c7c8e3a0928ef7 = L.map(\n                &quot;map_ceb625650c1f3df3c8c7c8e3a0928ef7&quot;,\n                {\n                    center: [29.559684888503615, -95.0830971930759],\n                    crs: L.CRS.EPSG3857,\n                    ...{\n  &quot;zoom&quot;: 5,\n  &quot;zoomControl&quot;: true,\n  &quot;preferCanvas&quot;: false,\n}\n\n                }\n            );\n\n            \n\n        \n    \n            var tile_layer_c9b893e1f1e01a22c86d3e5f358e90ea = L.tileLayer(\n                &quot;https://tile.openstreetmap.org/{z}/{x}/{y}.png&quot;,\n                {\n  &quot;minZoom&quot;: 0,\n  &quot;maxZoom&quot;: 19,\n  &quot;maxNativeZoom&quot;: 19,\n  &quot;noWrap&quot;: false,\n  &quot;attribution&quot;: &quot;\\u0026copy; \\u003ca href=\\&quot;https://www.openstreetmap.org/copyright\\&quot;\\u003eOpenStreetMap\\u003c/a\\u003e contributors&quot;,\n  &quot;subdomains&quot;: &quot;abc&quot;,\n  &quot;detectRetina&quot;: false,\n  &quot;tms&quot;: false,\n  &quot;opacity&quot;: 1,\n}\n\n            );\n        \n    \n            tile_layer_c9b893e1f1e01a22c86d3e5f358e90ea.addTo(map_ceb625650c1f3df3c8c7c8e3a0928ef7);\n        \n    \n            var circle_5f9f47c212e34a1d011cab8b3d469117 = L.circle(\n                [29.5597, -95.0831],\n                {&quot;bubblingMouseEvents&quot;: true, &quot;color&quot;: &quot;#d35400&quot;, &quot;dashArray&quot;: null, &quot;dashOffset&quot;: null, &quot;fill&quot;: true, &quot;fillColor&quot;: &quot;#d35400&quot;, &quot;fillOpacity&quot;: 0.2, &quot;fillRule&quot;: &quot;evenodd&quot;, &quot;lineCap&quot;: &quot;round&quot;, &quot;lineJoin&quot;: &quot;round&quot;, &quot;opacity&quot;: 1.0, &quot;radius&quot;: 100, &quot;stroke&quot;: true, &quot;weight&quot;: 3}\n            ).addTo(map_ceb625650c1f3df3c8c7c8e3a0928ef7);\n        \n    \n        var popup_9306dd9f2ffc95beed4980fec9138cc8 = L.popup({\n  &quot;maxWidth&quot;: &quot;100%&quot;,\n});\n\n        \n            \n                var html_f845bb37ec48cf83c03c2ccc0b34baef = $(`&lt;div id=&quot;html_f845bb37ec48cf83c03c2ccc0b34baef&quot; style=&quot;width: 100.0%; height: 100.0%;&quot;&gt;Site A&lt;/div&gt;`)[0];\n                popup_9306dd9f2ffc95beed4980fec9138cc8.setContent(html_f845bb37ec48cf83c03c2ccc0b34baef);\n            \n        \n\n        circle_5f9f47c212e34a1d011cab8b3d469117.bindPopup(popup_9306dd9f2ffc95beed4980fec9138cc8)\n        ;\n\n        \n    \n    \n            var marker_1afeef014816b0cb04e261f4dd36459a = L.marker(\n                [29.5597, -95.0831],\n                {\n}\n            ).addTo(map_ceb625650c1f3df3c8c7c8e3a0928ef7);\n        \n    \n            var div_icon_3a53f89c6256504351e9ce6a747890f0 = L.divIcon({\n  &quot;html&quot;: &quot;\\u003cdiv style=\\&quot;font-size: 12; color:#d35400;\\&quot;\\u003e\\u003cb\\u003eSite A\\u003c/b\\u003e\\u003c/div\\u003e&quot;,\n  &quot;iconSize&quot;: [20, 20],\n  &quot;iconAnchor&quot;: [0, 0],\n  &quot;className&quot;: &quot;empty&quot;,\n});\n            marker_1afeef014816b0cb04e261f4dd36459a.setIcon(div_icon_3a53f89c6256504351e9ce6a747890f0);\n        \n    \n                marker_1afeef014816b0cb04e261f4dd36459a.setIcon(div_icon_3a53f89c6256504351e9ce6a747890f0);\n            \n    \n            var circle_2a7818240215af5a075042b9c9a57c18 = L.circle(\n                [28.5632, -80.5762],\n                {&quot;bubblingMouseEvents&quot;: true, &quot;color&quot;: &quot;#d35400&quot;, &quot;dashArray&quot;: null, &quot;dashOffset&quot;: null, &quot;fill&quot;: true, &quot;fillColor&quot;: &quot;#d35400&quot;, &quot;fillOpacity&quot;: 0.2, &quot;fillRule&quot;: &quot;evenodd&quot;, &quot;lineCap&quot;: &quot;round&quot;, &quot;lineJoin&quot;: &quot;round&quot;, &quot;opacity&quot;: 1.0, &quot;radius&quot;: 100, &quot;stroke&quot;: true, &quot;weight&quot;: 3}\n            ).addTo(map_ceb625650c1f3df3c8c7c8e3a0928ef7);\n        \n    \n        var popup_73898f369bd9ea77b760056abf67a3c4 = L.popup({\n  &quot;maxWidth&quot;: &quot;100%&quot;,\n});\n\n        \n            \n                var html_0309186ff5c912c6cb87d51c0f374a35 = $(`&lt;div id=&quot;html_0309186ff5c912c6cb87d51c0f374a35&quot; style=&quot;width: 100.0%; height: 100.0%;&quot;&gt;Site B&lt;/div&gt;`)[0];\n                popup_73898f369bd9ea77b760056abf67a3c4.setContent(html_0309186ff5c912c6cb87d51c0f374a35);\n            \n        \n\n        circle_2a7818240215af5a075042b9c9a57c18.bindPopup(popup_73898f369bd9ea77b760056abf67a3c4)\n        ;\n\n        \n    \n    \n            var marker_09e39f345f1fc5de6dec5637a590524e = L.marker(\n                [28.5632, -80.5762],\n                {\n}\n            ).addTo(map_ceb625650c1f3df3c8c7c8e3a0928ef7);\n        \n    \n            var div_icon_6b69faac44a03581402f39b99202a9c3 = L.divIcon({\n  &quot;html&quot;: &quot;\\u003cdiv style=\\&quot;font-size: 12; color:#d35400;\\&quot;\\u003e\\u003cb\\u003eSite B\\u003c/b\\u003e\\u003c/div\\u003e&quot;,\n  &quot;iconSize&quot;: [20, 20],\n  &quot;iconAnchor&quot;: [0, 0],\n  &quot;className&quot;: &quot;empty&quot;,\n});\n            marker_09e39f345f1fc5de6dec5637a590524e.setIcon(div_icon_6b69faac44a03581402f39b99202a9c3);\n        \n    \n                marker_09e39f345f1fc5de6dec5637a590524e.setIcon(div_icon_6b69faac44a03581402f39b99202a9c3);\n            \n    \n            var circle_e0e22f17dce554a9fbfd5dc57fddab41 = L.circle(\n                [25.9971, -97.156],\n                {&quot;bubblingMouseEvents&quot;: true, &quot;color&quot;: &quot;#d35400&quot;, &quot;dashArray&quot;: null, &quot;dashOffset&quot;: null, &quot;fill&quot;: true, &quot;fillColor&quot;: &quot;#d35400&quot;, &quot;fillOpacity&quot;: 0.2, &quot;fillRule&quot;: &quot;evenodd&quot;, &quot;lineCap&quot;: &quot;round&quot;, &quot;lineJoin&quot;: &quot;round&quot;, &quot;opacity&quot;: 1.0, &quot;radius&quot;: 100, &quot;stroke&quot;: true, &quot;weight&quot;: 3}\n            ).addTo(map_ceb625650c1f3df3c8c7c8e3a0928ef7);\n        \n    \n        var popup_8e6b5cdcf18d46d1574708b5dddd349a = L.popup({\n  &quot;maxWidth&quot;: &quot;100%&quot;,\n});\n\n        \n            \n                var html_e1e63054f3cef775be35427974fff1b3 = $(`&lt;div id=&quot;html_e1e63054f3cef775be35427974fff1b3&quot; style=&quot;width: 100.0%; height: 100.0%;&quot;&gt;Site C&lt;/div&gt;`)[0];\n                popup_8e6b5cdcf18d46d1574708b5dddd349a.setContent(html_e1e63054f3cef775be35427974fff1b3);\n            \n        \n\n        circle_e0e22f17dce554a9fbfd5dc57fddab41.bindPopup(popup_8e6b5cdcf18d46d1574708b5dddd349a)\n        ;\n\n        \n    \n    \n            var marker_7db9658017833038bea16f4fabcfaddd = L.marker(\n                [25.9971, -97.156],\n                {\n}\n            ).addTo(map_ceb625650c1f3df3c8c7c8e3a0928ef7);\n        \n    \n            var div_icon_0c68d9ac461550aea1f36d7b443e8c86 = L.divIcon({\n  &quot;html&quot;: &quot;\\u003cdiv style=\\&quot;font-size: 12; color:#d35400;\\&quot;\\u003e\\u003cb\\u003eSite C\\u003c/b\\u003e\\u003c/div\\u003e&quot;,\n  &quot;iconSize&quot;: [20, 20],\n  &quot;iconAnchor&quot;: [0, 0],\n  &quot;className&quot;: &quot;empty&quot;,\n});\n            marker_7db9658017833038bea16f4fabcfaddd.setIcon(div_icon_0c68d9ac461550aea1f36d7b443e8c86);\n        \n    \n                marker_7db9658017833038bea16f4fabcfaddd.setIcon(div_icon_0c68d9ac461550aea1f36d7b443e8c86);\n            \n    \n            tile_layer_c9b893e1f1e01a22c86d3e5f358e90ea.addTo(map_ceb625650c1f3df3c8c7c8e3a0928ef7);\n        \n    \n                marker_1afeef014816b0cb04e261f4dd36459a.setIcon(div_icon_3a53f89c6256504351e9ce6a747890f0);\n            \n    \n                marker_09e39f345f1fc5de6dec5637a590524e.setIcon(div_icon_6b69faac44a03581402f39b99202a9c3);\n            \n    \n                marker_7db9658017833038bea16f4fabcfaddd.setIcon(div_icon_0c68d9ac461550aea1f36d7b443e8c86);\n            \n    \n            var poly_line_ba7b2bc235f3f766861f94087211c3c4 = L.polyline(\n                [[28.563197, -80.57682], [28.56386, -80.56809]],\n                {&quot;bubblingMouseEvents&quot;: true, &quot;color&quot;: &quot;#3388ff&quot;, &quot;dashArray&quot;: null, &quot;dashOffset&quot;: null, &quot;fill&quot;: false, &quot;fillColor&quot;: &quot;#3388ff&quot;, &quot;fillOpacity&quot;: 0.2, &quot;fillRule&quot;: &quot;evenodd&quot;, &quot;lineCap&quot;: &quot;round&quot;, &quot;lineJoin&quot;: &quot;round&quot;, &quot;noClip&quot;: false, &quot;opacity&quot;: 1.0, &quot;smoothFactor&quot;: 1.0, &quot;stroke&quot;: true, &quot;weight&quot;: 1}\n            ).addTo(map_ceb625650c1f3df3c8c7c8e3a0928ef7);\n        \n    \n            tile_layer_c9b893e1f1e01a22c86d3e5f358e90ea.addTo(map_ceb625650c1f3df3c8c7c8e3a0928ef7);\n        \n    \n                marker_1afeef014816b0cb04e261f4dd36459a.setIcon(div_icon_3a53f89c6256504351e9ce6a747890f0);\n            \n    \n                marker_09e39f345f1fc5de6dec5637a590524e.setIcon(div_icon_6b69faac44a03581402f39b99202a9c3);\n            \n    \n                marker_7db9658017833038bea16f4fabcfaddd.setIcon(div_icon_0c68d9ac461550aea1f36d7b443e8c86);\n            \n    \n            var mouse_position_487f3b1146e41f2e9525a108935aa2c4 = new L.Control.MousePosition(\n                {\n  &quot;position&quot;: &quot;topright&quot;,\n  &quot;separator&quot;: &quot; Long: &quot;,\n  &quot;emptyString&quot;: &quot;NaN&quot;,\n  &quot;lngFirst&quot;: false,\n  &quot;numDigits&quot;: 20,\n  &quot;prefix&quot;: &quot;Lat:&quot;,\n}\n            );\n            mouse_position_487f3b1146e41f2e9525a108935aa2c4.options[&quot;latFormatter&quot;] =\n                function(num) {return L.Util.formatNum(num, 5);};;\n            mouse_position_487f3b1146e41f2e9525a108935aa2c4.options[&quot;lngFormatter&quot;] =\n                function(num) {return L.Util.formatNum(num, 5);};;\n            map_ceb625650c1f3df3c8c7c8e3a0928ef7.addControl(mouse_position_487f3b1146e41f2e9525a108935aa2c4);\n        \n    \n            tile_layer_c9b893e1f1e01a22c86d3e5f358e90ea.addTo(map_ceb625650c1f3df3c8c7c8e3a0928ef7);\n        \n    \n                marker_1afeef014816b0cb04e261f4dd36459a.setIcon(div_icon_3a53f89c6256504351e9ce6a747890f0);\n            \n    \n                marker_09e39f345f1fc5de6dec5637a590524e.setIcon(div_icon_6b69faac44a03581402f39b99202a9c3);\n            \n    \n                marker_7db9658017833038bea16f4fabcfaddd.setIcon(div_icon_0c68d9ac461550aea1f36d7b443e8c86);\n            \n    \n            var poly_line_6ec91a07c7a67aabb9b041782499b4ba = L.polyline(\n                [[28.563197, -80.57682], [28.56386, -80.56809]],\n                {&quot;bubblingMouseEvents&quot;: true, &quot;color&quot;: &quot;#3388ff&quot;, &quot;dashArray&quot;: null, &quot;dashOffset&quot;: null, &quot;fill&quot;: false, &quot;fillColor&quot;: &quot;#3388ff&quot;, &quot;fillOpacity&quot;: 0.2, &quot;fillRule&quot;: &quot;evenodd&quot;, &quot;lineCap&quot;: &quot;round&quot;, &quot;lineJoin&quot;: &quot;round&quot;, &quot;noClip&quot;: false, &quot;opacity&quot;: 1.0, &quot;smoothFactor&quot;: 1.0, &quot;stroke&quot;: true, &quot;weight&quot;: 1}\n            ).addTo(map_ceb625650c1f3df3c8c7c8e3a0928ef7);\n        \n&lt;/script&gt;\n&lt;/html&gt;\" style=\"position:absolute;width:100%;height:100%;left:0;top:0;border:none !important;\" allowfullscreen webkitallowfullscreen mozallowfullscreen></iframe></div></div>"
          },
          "metadata": {}
        }
      ],
      "execution_count": 40
    },
    {
      "cell_type": "markdown",
      "source": "Your updated map with distance line should look like the following screenshot:\n",
      "metadata": {}
    },
    {
      "cell_type": "markdown",
      "source": "<center>\n    <img src=\"https://cf-courses-data.s3.us.cloud-object-storage.appdomain.cloud/IBM-DS0321EN-SkillsNetwork/labs/module_3/images/launch_site_marker_distance.png\">\n</center>\n",
      "metadata": {}
    },
    {
      "cell_type": "markdown",
      "source": "*TODO:* Similarly, you can draw a line betwee a launch site to its closest city, railway, highway, etc. You need to use `MousePosition` to find the their coordinates on the map first\n",
      "metadata": {}
    },
    {
      "cell_type": "markdown",
      "source": "A railway map symbol may look like this:\n",
      "metadata": {}
    },
    {
      "cell_type": "markdown",
      "source": "<center>\n    <img src=\"https://cf-courses-data.s3.us.cloud-object-storage.appdomain.cloud/IBM-DS0321EN-SkillsNetwork/labs/module_3/images/railway.png\">\n</center>\n",
      "metadata": {}
    },
    {
      "cell_type": "markdown",
      "source": "A highway map symbol may look like this:\n",
      "metadata": {}
    },
    {
      "cell_type": "markdown",
      "source": "<center>\n    <img src=\"https://cf-courses-data.s3.us.cloud-object-storage.appdomain.cloud/IBM-DS0321EN-SkillsNetwork/labs/module_3/images/highway.png\">\n</center>\n",
      "metadata": {}
    },
    {
      "cell_type": "markdown",
      "source": "A city map symbol may look like this:\n",
      "metadata": {}
    },
    {
      "cell_type": "markdown",
      "source": "<center>\n    <img src=\"https://cf-courses-data.s3.us.cloud-object-storage.appdomain.cloud/IBM-DS0321EN-SkillsNetwork/labs/module_3/images/city.png\">\n</center>\n",
      "metadata": {}
    },
    {
      "cell_type": "code",
      "source": "# Create a marker with distance to a closest city, railway, highway, etc.\n# Draw a line between the marker to the launch site\nspace_launch_complex_lat = 28.53584\nspace_launch_complex_lon = -80.56834\ndistance_space_launch_complex = calculate_distance(launch_site_lat, launch_site_lon, space_launch_complex_lat, space_launch_complex_lon)\nprint(\"Distance to Space Launch Complex 37: \",distance_space_launch_complex, ' km')\nnasa_railway_lat = 28.57127\nnasa_railway_lon = -80.58538\ndistance_nasarailway = calculate_distance(launch_site_lat, launch_site_lon, nasa_railway_lat, nasa_railway_lon)\nprint('Distance to NASA Railroad: ',distance_nasarailway, ' km')",
      "metadata": {
        "trusted": true
      },
      "outputs": [
        {
          "name": "stdout",
          "text": "Distance to Space Launch Complex 37:  3.153696502340543  km\nDistance to NASA Railroad:  1.2270208239750215  km\n",
          "output_type": "stream"
        }
      ],
      "execution_count": 41
    },
    {
      "cell_type": "code",
      "source": "distance_space_launch_complex_marker = folium.Marker(\n    [space_launch_complex_lat, space_launch_complex_lon],\n    icon=DivIcon(\n        icon_size=(20,20),\n        icon_anchor=(0,0),\n        html='<div style=\"font-size: 12; color:#d35400;\"><b>%s</b></div>' % \"{:10.2f} KM\".format(distance_space_launch_complex),\n        )\n    )\n# Create a `folium.PolyLine` object using the Space Launch Complex coordinates and launch site coordinate\nmarker_cluster.add_child(distance_space_launch_complex_marker)\ncoordinates = [[launch_site_lat, launch_site_lon], [space_launch_complex_lat, space_launch_complex_lon]]\nlines=folium.PolyLine(locations=coordinates, weight=1)\nsite_map.add_child(lines)\n\n# Create a `folium.PolyLine` object using the NASA Railroad coordinates and launch site coordinate\ndistance_nasarailway_marker = folium.Marker(\n    [nasa_railway_lat, nasa_railway_lon],\n    icon=DivIcon(\n        icon_size=(20,20),\n        icon_anchor=(0,0),\n        html='<div style=\"font-size: 12; color:#d35400;\"><b>%s</b></div>' % \"{:10.2f} KM\".format(distance_nasarailway),\n        )\n    )\nmarker_cluster.add_child(distance_nasarailway_marker)\ncoordinates = [[launch_site_lat, launch_site_lon], [nasa_railway_lat, nasa_railway_lon]]\nlines=folium.PolyLine(locations=coordinates, weight=1)\nsite_map.add_child(lines)\n\n#Show the map\nsite_map",
      "metadata": {
        "trusted": true
      },
      "outputs": [
        {
          "execution_count": 42,
          "output_type": "execute_result",
          "data": {
            "text/plain": "<folium.folium.Map at 0x5d320d0>",
            "text/html": "<div style=\"width:100%;\"><div style=\"position:relative;width:100%;height:0;padding-bottom:60%;\"><span style=\"color:#565656\">Make this Notebook Trusted to load map: File -> Trust Notebook</span><iframe srcdoc=\"&lt;!DOCTYPE html&gt;\n&lt;html&gt;\n&lt;head&gt;\n    \n    &lt;meta http-equiv=&quot;content-type&quot; content=&quot;text/html; charset=UTF-8&quot; /&gt;\n    \n        &lt;script&gt;\n            L_NO_TOUCH = false;\n            L_DISABLE_3D = false;\n        &lt;/script&gt;\n    \n    &lt;style&gt;html, body {width: 100%;height: 100%;margin: 0;padding: 0;}&lt;/style&gt;\n    &lt;style&gt;#map {position:absolute;top:0;bottom:0;right:0;left:0;}&lt;/style&gt;\n    &lt;script src=&quot;https://cdn.jsdelivr.net/npm/leaflet@1.9.3/dist/leaflet.js&quot;&gt;&lt;/script&gt;\n    &lt;script src=&quot;https://code.jquery.com/jquery-3.7.1.min.js&quot;&gt;&lt;/script&gt;\n    &lt;script src=&quot;https://cdn.jsdelivr.net/npm/bootstrap@5.2.2/dist/js/bootstrap.bundle.min.js&quot;&gt;&lt;/script&gt;\n    &lt;script src=&quot;https://cdnjs.cloudflare.com/ajax/libs/Leaflet.awesome-markers/2.0.2/leaflet.awesome-markers.js&quot;&gt;&lt;/script&gt;\n    &lt;link rel=&quot;stylesheet&quot; href=&quot;https://cdn.jsdelivr.net/npm/leaflet@1.9.3/dist/leaflet.css&quot;/&gt;\n    &lt;link rel=&quot;stylesheet&quot; href=&quot;https://cdn.jsdelivr.net/npm/bootstrap@5.2.2/dist/css/bootstrap.min.css&quot;/&gt;\n    &lt;link rel=&quot;stylesheet&quot; href=&quot;https://netdna.bootstrapcdn.com/bootstrap/3.0.0/css/bootstrap-glyphicons.css&quot;/&gt;\n    &lt;link rel=&quot;stylesheet&quot; href=&quot;https://cdn.jsdelivr.net/npm/@fortawesome/fontawesome-free@6.2.0/css/all.min.css&quot;/&gt;\n    &lt;link rel=&quot;stylesheet&quot; href=&quot;https://cdnjs.cloudflare.com/ajax/libs/Leaflet.awesome-markers/2.0.2/leaflet.awesome-markers.css&quot;/&gt;\n    &lt;link rel=&quot;stylesheet&quot; href=&quot;https://cdn.jsdelivr.net/gh/python-visualization/folium/folium/templates/leaflet.awesome.rotate.min.css&quot;/&gt;\n    \n            &lt;meta name=&quot;viewport&quot; content=&quot;width=device-width,\n                initial-scale=1.0, maximum-scale=1.0, user-scalable=no&quot; /&gt;\n            &lt;style&gt;\n                #map_ceb625650c1f3df3c8c7c8e3a0928ef7 {\n                    position: relative;\n                    width: 100.0%;\n                    height: 100.0%;\n                    left: 0.0%;\n                    top: 0.0%;\n                }\n                .leaflet-container { font-size: 1rem; }\n            &lt;/style&gt;\n        \n    &lt;script src=&quot;https://cdn.jsdelivr.net/gh/ardhi/Leaflet.MousePosition/src/L.Control.MousePosition.min.js&quot;&gt;&lt;/script&gt;\n    &lt;link rel=&quot;stylesheet&quot; href=&quot;https://cdn.jsdelivr.net/gh/ardhi/Leaflet.MousePosition/src/L.Control.MousePosition.min.css&quot;/&gt;\n&lt;/head&gt;\n&lt;body&gt;\n    \n    \n            &lt;div class=&quot;folium-map&quot; id=&quot;map_ceb625650c1f3df3c8c7c8e3a0928ef7&quot; &gt;&lt;/div&gt;\n        \n&lt;/body&gt;\n&lt;script&gt;\n    \n    \n            var map_ceb625650c1f3df3c8c7c8e3a0928ef7 = L.map(\n                &quot;map_ceb625650c1f3df3c8c7c8e3a0928ef7&quot;,\n                {\n                    center: [29.559684888503615, -95.0830971930759],\n                    crs: L.CRS.EPSG3857,\n                    ...{\n  &quot;zoom&quot;: 5,\n  &quot;zoomControl&quot;: true,\n  &quot;preferCanvas&quot;: false,\n}\n\n                }\n            );\n\n            \n\n        \n    \n            var tile_layer_c9b893e1f1e01a22c86d3e5f358e90ea = L.tileLayer(\n                &quot;https://tile.openstreetmap.org/{z}/{x}/{y}.png&quot;,\n                {\n  &quot;minZoom&quot;: 0,\n  &quot;maxZoom&quot;: 19,\n  &quot;maxNativeZoom&quot;: 19,\n  &quot;noWrap&quot;: false,\n  &quot;attribution&quot;: &quot;\\u0026copy; \\u003ca href=\\&quot;https://www.openstreetmap.org/copyright\\&quot;\\u003eOpenStreetMap\\u003c/a\\u003e contributors&quot;,\n  &quot;subdomains&quot;: &quot;abc&quot;,\n  &quot;detectRetina&quot;: false,\n  &quot;tms&quot;: false,\n  &quot;opacity&quot;: 1,\n}\n\n            );\n        \n    \n            tile_layer_c9b893e1f1e01a22c86d3e5f358e90ea.addTo(map_ceb625650c1f3df3c8c7c8e3a0928ef7);\n        \n    \n            var circle_5f9f47c212e34a1d011cab8b3d469117 = L.circle(\n                [29.5597, -95.0831],\n                {&quot;bubblingMouseEvents&quot;: true, &quot;color&quot;: &quot;#d35400&quot;, &quot;dashArray&quot;: null, &quot;dashOffset&quot;: null, &quot;fill&quot;: true, &quot;fillColor&quot;: &quot;#d35400&quot;, &quot;fillOpacity&quot;: 0.2, &quot;fillRule&quot;: &quot;evenodd&quot;, &quot;lineCap&quot;: &quot;round&quot;, &quot;lineJoin&quot;: &quot;round&quot;, &quot;opacity&quot;: 1.0, &quot;radius&quot;: 100, &quot;stroke&quot;: true, &quot;weight&quot;: 3}\n            ).addTo(map_ceb625650c1f3df3c8c7c8e3a0928ef7);\n        \n    \n        var popup_9306dd9f2ffc95beed4980fec9138cc8 = L.popup({\n  &quot;maxWidth&quot;: &quot;100%&quot;,\n});\n\n        \n            \n                var html_f845bb37ec48cf83c03c2ccc0b34baef = $(`&lt;div id=&quot;html_f845bb37ec48cf83c03c2ccc0b34baef&quot; style=&quot;width: 100.0%; height: 100.0%;&quot;&gt;Site A&lt;/div&gt;`)[0];\n                popup_9306dd9f2ffc95beed4980fec9138cc8.setContent(html_f845bb37ec48cf83c03c2ccc0b34baef);\n            \n        \n\n        circle_5f9f47c212e34a1d011cab8b3d469117.bindPopup(popup_9306dd9f2ffc95beed4980fec9138cc8)\n        ;\n\n        \n    \n    \n            var marker_1afeef014816b0cb04e261f4dd36459a = L.marker(\n                [29.5597, -95.0831],\n                {\n}\n            ).addTo(map_ceb625650c1f3df3c8c7c8e3a0928ef7);\n        \n    \n            var div_icon_3a53f89c6256504351e9ce6a747890f0 = L.divIcon({\n  &quot;html&quot;: &quot;\\u003cdiv style=\\&quot;font-size: 12; color:#d35400;\\&quot;\\u003e\\u003cb\\u003eSite A\\u003c/b\\u003e\\u003c/div\\u003e&quot;,\n  &quot;iconSize&quot;: [20, 20],\n  &quot;iconAnchor&quot;: [0, 0],\n  &quot;className&quot;: &quot;empty&quot;,\n});\n            marker_1afeef014816b0cb04e261f4dd36459a.setIcon(div_icon_3a53f89c6256504351e9ce6a747890f0);\n        \n    \n                marker_1afeef014816b0cb04e261f4dd36459a.setIcon(div_icon_3a53f89c6256504351e9ce6a747890f0);\n            \n    \n            var circle_2a7818240215af5a075042b9c9a57c18 = L.circle(\n                [28.5632, -80.5762],\n                {&quot;bubblingMouseEvents&quot;: true, &quot;color&quot;: &quot;#d35400&quot;, &quot;dashArray&quot;: null, &quot;dashOffset&quot;: null, &quot;fill&quot;: true, &quot;fillColor&quot;: &quot;#d35400&quot;, &quot;fillOpacity&quot;: 0.2, &quot;fillRule&quot;: &quot;evenodd&quot;, &quot;lineCap&quot;: &quot;round&quot;, &quot;lineJoin&quot;: &quot;round&quot;, &quot;opacity&quot;: 1.0, &quot;radius&quot;: 100, &quot;stroke&quot;: true, &quot;weight&quot;: 3}\n            ).addTo(map_ceb625650c1f3df3c8c7c8e3a0928ef7);\n        \n    \n        var popup_73898f369bd9ea77b760056abf67a3c4 = L.popup({\n  &quot;maxWidth&quot;: &quot;100%&quot;,\n});\n\n        \n            \n                var html_0309186ff5c912c6cb87d51c0f374a35 = $(`&lt;div id=&quot;html_0309186ff5c912c6cb87d51c0f374a35&quot; style=&quot;width: 100.0%; height: 100.0%;&quot;&gt;Site B&lt;/div&gt;`)[0];\n                popup_73898f369bd9ea77b760056abf67a3c4.setContent(html_0309186ff5c912c6cb87d51c0f374a35);\n            \n        \n\n        circle_2a7818240215af5a075042b9c9a57c18.bindPopup(popup_73898f369bd9ea77b760056abf67a3c4)\n        ;\n\n        \n    \n    \n            var marker_09e39f345f1fc5de6dec5637a590524e = L.marker(\n                [28.5632, -80.5762],\n                {\n}\n            ).addTo(map_ceb625650c1f3df3c8c7c8e3a0928ef7);\n        \n    \n            var div_icon_6b69faac44a03581402f39b99202a9c3 = L.divIcon({\n  &quot;html&quot;: &quot;\\u003cdiv style=\\&quot;font-size: 12; color:#d35400;\\&quot;\\u003e\\u003cb\\u003eSite B\\u003c/b\\u003e\\u003c/div\\u003e&quot;,\n  &quot;iconSize&quot;: [20, 20],\n  &quot;iconAnchor&quot;: [0, 0],\n  &quot;className&quot;: &quot;empty&quot;,\n});\n            marker_09e39f345f1fc5de6dec5637a590524e.setIcon(div_icon_6b69faac44a03581402f39b99202a9c3);\n        \n    \n                marker_09e39f345f1fc5de6dec5637a590524e.setIcon(div_icon_6b69faac44a03581402f39b99202a9c3);\n            \n    \n            var circle_e0e22f17dce554a9fbfd5dc57fddab41 = L.circle(\n                [25.9971, -97.156],\n                {&quot;bubblingMouseEvents&quot;: true, &quot;color&quot;: &quot;#d35400&quot;, &quot;dashArray&quot;: null, &quot;dashOffset&quot;: null, &quot;fill&quot;: true, &quot;fillColor&quot;: &quot;#d35400&quot;, &quot;fillOpacity&quot;: 0.2, &quot;fillRule&quot;: &quot;evenodd&quot;, &quot;lineCap&quot;: &quot;round&quot;, &quot;lineJoin&quot;: &quot;round&quot;, &quot;opacity&quot;: 1.0, &quot;radius&quot;: 100, &quot;stroke&quot;: true, &quot;weight&quot;: 3}\n            ).addTo(map_ceb625650c1f3df3c8c7c8e3a0928ef7);\n        \n    \n        var popup_8e6b5cdcf18d46d1574708b5dddd349a = L.popup({\n  &quot;maxWidth&quot;: &quot;100%&quot;,\n});\n\n        \n            \n                var html_e1e63054f3cef775be35427974fff1b3 = $(`&lt;div id=&quot;html_e1e63054f3cef775be35427974fff1b3&quot; style=&quot;width: 100.0%; height: 100.0%;&quot;&gt;Site C&lt;/div&gt;`)[0];\n                popup_8e6b5cdcf18d46d1574708b5dddd349a.setContent(html_e1e63054f3cef775be35427974fff1b3);\n            \n        \n\n        circle_e0e22f17dce554a9fbfd5dc57fddab41.bindPopup(popup_8e6b5cdcf18d46d1574708b5dddd349a)\n        ;\n\n        \n    \n    \n            var marker_7db9658017833038bea16f4fabcfaddd = L.marker(\n                [25.9971, -97.156],\n                {\n}\n            ).addTo(map_ceb625650c1f3df3c8c7c8e3a0928ef7);\n        \n    \n            var div_icon_0c68d9ac461550aea1f36d7b443e8c86 = L.divIcon({\n  &quot;html&quot;: &quot;\\u003cdiv style=\\&quot;font-size: 12; color:#d35400;\\&quot;\\u003e\\u003cb\\u003eSite C\\u003c/b\\u003e\\u003c/div\\u003e&quot;,\n  &quot;iconSize&quot;: [20, 20],\n  &quot;iconAnchor&quot;: [0, 0],\n  &quot;className&quot;: &quot;empty&quot;,\n});\n            marker_7db9658017833038bea16f4fabcfaddd.setIcon(div_icon_0c68d9ac461550aea1f36d7b443e8c86);\n        \n    \n                marker_7db9658017833038bea16f4fabcfaddd.setIcon(div_icon_0c68d9ac461550aea1f36d7b443e8c86);\n            \n    \n            tile_layer_c9b893e1f1e01a22c86d3e5f358e90ea.addTo(map_ceb625650c1f3df3c8c7c8e3a0928ef7);\n        \n    \n                marker_1afeef014816b0cb04e261f4dd36459a.setIcon(div_icon_3a53f89c6256504351e9ce6a747890f0);\n            \n    \n                marker_09e39f345f1fc5de6dec5637a590524e.setIcon(div_icon_6b69faac44a03581402f39b99202a9c3);\n            \n    \n                marker_7db9658017833038bea16f4fabcfaddd.setIcon(div_icon_0c68d9ac461550aea1f36d7b443e8c86);\n            \n    \n            var poly_line_ba7b2bc235f3f766861f94087211c3c4 = L.polyline(\n                [[28.563197, -80.57682], [28.56386, -80.56809]],\n                {&quot;bubblingMouseEvents&quot;: true, &quot;color&quot;: &quot;#3388ff&quot;, &quot;dashArray&quot;: null, &quot;dashOffset&quot;: null, &quot;fill&quot;: false, &quot;fillColor&quot;: &quot;#3388ff&quot;, &quot;fillOpacity&quot;: 0.2, &quot;fillRule&quot;: &quot;evenodd&quot;, &quot;lineCap&quot;: &quot;round&quot;, &quot;lineJoin&quot;: &quot;round&quot;, &quot;noClip&quot;: false, &quot;opacity&quot;: 1.0, &quot;smoothFactor&quot;: 1.0, &quot;stroke&quot;: true, &quot;weight&quot;: 1}\n            ).addTo(map_ceb625650c1f3df3c8c7c8e3a0928ef7);\n        \n    \n            tile_layer_c9b893e1f1e01a22c86d3e5f358e90ea.addTo(map_ceb625650c1f3df3c8c7c8e3a0928ef7);\n        \n    \n                marker_1afeef014816b0cb04e261f4dd36459a.setIcon(div_icon_3a53f89c6256504351e9ce6a747890f0);\n            \n    \n                marker_09e39f345f1fc5de6dec5637a590524e.setIcon(div_icon_6b69faac44a03581402f39b99202a9c3);\n            \n    \n                marker_7db9658017833038bea16f4fabcfaddd.setIcon(div_icon_0c68d9ac461550aea1f36d7b443e8c86);\n            \n    \n            var mouse_position_487f3b1146e41f2e9525a108935aa2c4 = new L.Control.MousePosition(\n                {\n  &quot;position&quot;: &quot;topright&quot;,\n  &quot;separator&quot;: &quot; Long: &quot;,\n  &quot;emptyString&quot;: &quot;NaN&quot;,\n  &quot;lngFirst&quot;: false,\n  &quot;numDigits&quot;: 20,\n  &quot;prefix&quot;: &quot;Lat:&quot;,\n}\n            );\n            mouse_position_487f3b1146e41f2e9525a108935aa2c4.options[&quot;latFormatter&quot;] =\n                function(num) {return L.Util.formatNum(num, 5);};;\n            mouse_position_487f3b1146e41f2e9525a108935aa2c4.options[&quot;lngFormatter&quot;] =\n                function(num) {return L.Util.formatNum(num, 5);};;\n            map_ceb625650c1f3df3c8c7c8e3a0928ef7.addControl(mouse_position_487f3b1146e41f2e9525a108935aa2c4);\n        \n    \n            tile_layer_c9b893e1f1e01a22c86d3e5f358e90ea.addTo(map_ceb625650c1f3df3c8c7c8e3a0928ef7);\n        \n    \n                marker_1afeef014816b0cb04e261f4dd36459a.setIcon(div_icon_3a53f89c6256504351e9ce6a747890f0);\n            \n    \n                marker_09e39f345f1fc5de6dec5637a590524e.setIcon(div_icon_6b69faac44a03581402f39b99202a9c3);\n            \n    \n                marker_7db9658017833038bea16f4fabcfaddd.setIcon(div_icon_0c68d9ac461550aea1f36d7b443e8c86);\n            \n    \n            var poly_line_6ec91a07c7a67aabb9b041782499b4ba = L.polyline(\n                [[28.563197, -80.57682], [28.56386, -80.56809]],\n                {&quot;bubblingMouseEvents&quot;: true, &quot;color&quot;: &quot;#3388ff&quot;, &quot;dashArray&quot;: null, &quot;dashOffset&quot;: null, &quot;fill&quot;: false, &quot;fillColor&quot;: &quot;#3388ff&quot;, &quot;fillOpacity&quot;: 0.2, &quot;fillRule&quot;: &quot;evenodd&quot;, &quot;lineCap&quot;: &quot;round&quot;, &quot;lineJoin&quot;: &quot;round&quot;, &quot;noClip&quot;: false, &quot;opacity&quot;: 1.0, &quot;smoothFactor&quot;: 1.0, &quot;stroke&quot;: true, &quot;weight&quot;: 1}\n            ).addTo(map_ceb625650c1f3df3c8c7c8e3a0928ef7);\n        \n    \n            tile_layer_c9b893e1f1e01a22c86d3e5f358e90ea.addTo(map_ceb625650c1f3df3c8c7c8e3a0928ef7);\n        \n    \n                marker_1afeef014816b0cb04e261f4dd36459a.setIcon(div_icon_3a53f89c6256504351e9ce6a747890f0);\n            \n    \n                marker_09e39f345f1fc5de6dec5637a590524e.setIcon(div_icon_6b69faac44a03581402f39b99202a9c3);\n            \n    \n                marker_7db9658017833038bea16f4fabcfaddd.setIcon(div_icon_0c68d9ac461550aea1f36d7b443e8c86);\n            \n    \n            var poly_line_6521e58c4f6827b239dd83f30dfd7205 = L.polyline(\n                [[28.563197, -80.57682], [28.53584, -80.56834]],\n                {&quot;bubblingMouseEvents&quot;: true, &quot;color&quot;: &quot;#3388ff&quot;, &quot;dashArray&quot;: null, &quot;dashOffset&quot;: null, &quot;fill&quot;: false, &quot;fillColor&quot;: &quot;#3388ff&quot;, &quot;fillOpacity&quot;: 0.2, &quot;fillRule&quot;: &quot;evenodd&quot;, &quot;lineCap&quot;: &quot;round&quot;, &quot;lineJoin&quot;: &quot;round&quot;, &quot;noClip&quot;: false, &quot;opacity&quot;: 1.0, &quot;smoothFactor&quot;: 1.0, &quot;stroke&quot;: true, &quot;weight&quot;: 1}\n            ).addTo(map_ceb625650c1f3df3c8c7c8e3a0928ef7);\n        \n    \n            var poly_line_7ebd3f307d5e804254c01143b769ead8 = L.polyline(\n                [[28.563197, -80.57682], [28.57127, -80.58538]],\n                {&quot;bubblingMouseEvents&quot;: true, &quot;color&quot;: &quot;#3388ff&quot;, &quot;dashArray&quot;: null, &quot;dashOffset&quot;: null, &quot;fill&quot;: false, &quot;fillColor&quot;: &quot;#3388ff&quot;, &quot;fillOpacity&quot;: 0.2, &quot;fillRule&quot;: &quot;evenodd&quot;, &quot;lineCap&quot;: &quot;round&quot;, &quot;lineJoin&quot;: &quot;round&quot;, &quot;noClip&quot;: false, &quot;opacity&quot;: 1.0, &quot;smoothFactor&quot;: 1.0, &quot;stroke&quot;: true, &quot;weight&quot;: 1}\n            ).addTo(map_ceb625650c1f3df3c8c7c8e3a0928ef7);\n        \n&lt;/script&gt;\n&lt;/html&gt;\" style=\"position:absolute;width:100%;height:100%;left:0;top:0;border:none !important;\" allowfullscreen webkitallowfullscreen mozallowfullscreen></iframe></div></div>"
          },
          "metadata": {}
        }
      ],
      "execution_count": 42
    },
    {
      "cell_type": "markdown",
      "source": "After you plot distance lines to the proximities, you can answer the following questions easily:\n\n*   Are launch sites in close proximity to railways?\n*   Are launch sites in close proximity to highways?\n*   Are launch sites in close proximity to coastline?\n*   Do launch sites keep certain distance away from cities?\n\nAlso please try to explain your findings.\n",
      "metadata": {}
    },
    {
      "cell_type": "code",
      "source": "# Launch sites are located near the coast and far from control centres and cities.\n# There may be railways and roads nearby but these are always private (probably for transporting mission-related material).",
      "metadata": {
        "trusted": true
      },
      "outputs": [],
      "execution_count": null
    },
    {
      "cell_type": "markdown",
      "source": "# Next Steps:\n\nNow you have discovered many interesting insights related to the launch sites' location using folium, in a very interactive way. Next, you will need to build a dashboard using Ploty Dash on detailed launch records.\n",
      "metadata": {}
    },
    {
      "cell_type": "markdown",
      "source": "## Authors\n",
      "metadata": {}
    },
    {
      "cell_type": "markdown",
      "source": "[Pratiksha Verma](https://www.linkedin.com/in/pratiksha-verma-6487561b1/)\n",
      "metadata": {}
    },
    {
      "cell_type": "markdown",
      "source": "<!--## Change Log--!>\n",
      "metadata": {}
    },
    {
      "cell_type": "markdown",
      "source": "<!--| Date (YYYY-MM-DD) | Version | Changed By      | Change Description      |\n| ----------------- | ------- | -------------   | ----------------------- |\n| 2022-11-09        | 1.0     | Pratiksha Verma | Converted initial version to Jupyterlite|--!>\n",
      "metadata": {}
    },
    {
      "cell_type": "markdown",
      "source": "### <h3 align=\"center\"> IBM Corporation 2022. All rights reserved. <h3/>\n",
      "metadata": {}
    }
  ]
}